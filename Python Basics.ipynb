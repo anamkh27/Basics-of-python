{
 "cells": [
  {
   "cell_type": "markdown",
   "id": "0d2c0aa3",
   "metadata": {},
   "source": [
    "<h1 align=\"center\">Basics of python</h1>"
   ]
  },
  {
   "cell_type": "markdown",
   "id": "417a54e9",
   "metadata": {},
   "source": [
    "# Table of Contents"
   ]
  },
  {
   "cell_type": "markdown",
   "id": "d8a2b7a5",
   "metadata": {},
   "source": [
    "### 1. Introduction"
   ]
  },
  {
   "cell_type": "markdown",
   "id": "75ac9f87",
   "metadata": {},
   "source": [
    "### 2. Data Types"
   ]
  },
  {
   "cell_type": "markdown",
   "id": "707216f5",
   "metadata": {},
   "source": [
    "####  2.1 Variables"
   ]
  },
  {
   "cell_type": "markdown",
   "id": "51640bf2",
   "metadata": {},
   "source": [
    "#### 2.2 Numbers"
   ]
  },
  {
   "cell_type": "markdown",
   "id": "db631636",
   "metadata": {},
   "source": [
    "####    2.3 Strings"
   ]
  },
  {
   "cell_type": "markdown",
   "id": "4f33b24d",
   "metadata": {},
   "source": [
    "#### 2.4 Lists"
   ]
  },
  {
   "cell_type": "markdown",
   "id": "637730e9",
   "metadata": {},
   "source": [
    "####    2.5 Dictionaries"
   ]
  },
  {
   "cell_type": "markdown",
   "id": "6e69027f",
   "metadata": {},
   "source": [
    "#### 2.6 Tuples"
   ]
  },
  {
   "cell_type": "markdown",
   "id": "a465dee1",
   "metadata": {},
   "source": [
    "####    2.7 Sets"
   ]
  },
  {
   "cell_type": "markdown",
   "id": "ce5f78d4",
   "metadata": {},
   "source": [
    "### 3. Comparison Operators"
   ]
  },
  {
   "cell_type": "markdown",
   "id": "de37812a",
   "metadata": {},
   "source": [
    "### 4. If-Else Statements"
   ]
  },
  {
   "cell_type": "markdown",
   "id": "7e6560ac",
   "metadata": {},
   "source": [
    "### 5. For & While Loop"
   ]
  },
  {
   "cell_type": "markdown",
   "id": "c86ffe16",
   "metadata": {},
   "source": [
    "### 6. Functions"
   ]
  },
  {
   "cell_type": "markdown",
   "id": "943ff321",
   "metadata": {},
   "source": [
    "### 7. Lambda Functions"
   ]
  },
  {
   "cell_type": "markdown",
   "id": "bcb29395",
   "metadata": {},
   "source": [
    "####    7.1 Map()"
   ]
  },
  {
   "cell_type": "markdown",
   "id": "8c4ce2fd",
   "metadata": {},
   "source": [
    "#### 7.2 filter()"
   ]
  },
  {
   "cell_type": "markdown",
   "id": "5acdb971",
   "metadata": {},
   "source": [
    "### 8. File I/O"
   ]
  },
  {
   "cell_type": "markdown",
   "id": "30c84af6",
   "metadata": {},
   "source": [
    "### 9. Pandas Library Introduction"
   ]
  },
  {
   "cell_type": "markdown",
   "id": "180485db",
   "metadata": {},
   "source": [
    "### 10. Series"
   ]
  },
  {
   "cell_type": "markdown",
   "id": "8052bb96",
   "metadata": {},
   "source": [
    "#### 10.1 From ndarray"
   ]
  },
  {
   "cell_type": "markdown",
   "id": "a62027da",
   "metadata": {},
   "source": [
    "#### 10.2 From dict"
   ]
  },
  {
   "cell_type": "markdown",
   "id": "3585d4ee",
   "metadata": {},
   "source": [
    "#### 10.3 From Scalar value"
   ]
  },
  {
   "cell_type": "markdown",
   "id": "8fc841e2",
   "metadata": {},
   "source": [
    "#### 10.4 Series is ndarray-like"
   ]
  },
  {
   "cell_type": "markdown",
   "id": "6451136c",
   "metadata": {},
   "source": [
    "#### 10.5 Series is dict-like"
   ]
  },
  {
   "cell_type": "markdown",
   "id": "c1563e3f",
   "metadata": {},
   "source": [
    "#### 10.6 Vectorized operations and label alignment with Series"
   ]
  },
  {
   "cell_type": "markdown",
   "id": "455a3bf0",
   "metadata": {},
   "source": [
    "#### 10.7 Name Attribute"
   ]
  },
  {
   "cell_type": "markdown",
   "id": "7b62722a",
   "metadata": {},
   "source": [
    "### 11. Data Frames"
   ]
  },
  {
   "cell_type": "markdown",
   "id": "ef2d90a4",
   "metadata": {},
   "source": [
    "#### 11.1 From dict of Series or dicts"
   ]
  },
  {
   "cell_type": "markdown",
   "id": "ec85fb89",
   "metadata": {},
   "source": [
    "#### 11.2 From dict of ndarrays / lists"
   ]
  },
  {
   "cell_type": "markdown",
   "id": "1a4af6c8",
   "metadata": {},
   "source": [
    "#### 11.3 From a list of dicts"
   ]
  },
  {
   "cell_type": "markdown",
   "id": "359065d7",
   "metadata": {},
   "source": [
    "#### 11.4 From a dict of tuples"
   ]
  },
  {
   "cell_type": "markdown",
   "id": "87083443",
   "metadata": {},
   "source": [
    "#### 11.5 Alternate Constructors"
   ]
  },
  {
   "cell_type": "markdown",
   "id": "531c1818",
   "metadata": {},
   "source": [
    "# 1. Introduction\n",
    "-  Python has gathered alot of appreciation as a choice of language for Data Analytics.\n",
    "-  Open Source and Free to install.\n",
    "-  Awesome online community.\n",
    "-  Very easy to learn.\n",
    "-  It can become common language for data science.\n",
    "-  It can also become a common language for production of web based analytics products.\n",
    "-  As it is interpreted programming language so it is easier to implement.\n",
    "-  Compilation is not required, execution process can be done directly."
   ]
  },
  {
   "cell_type": "markdown",
   "id": "ab7447e2",
   "metadata": {},
   "source": [
    "# 2. Data Types\n",
    "Following data types are used in Python to store and access the data. Those are explained below."
   ]
  },
  {
   "cell_type": "markdown",
   "id": "4e2380b6",
   "metadata": {},
   "source": [
    "# 2.1 Variable\n",
    "\n",
    "## Definition: \n",
    "   Variables are data values that can change when the user is asked a question, for example, their age. Variables may change during program execution.\n",
    "\n",
    "### Why we use Variables:\n",
    "   We use variables when we have to store some value and perform operation on it afterward or change on runtime.\n",
    "### When we use Variables:\n",
    "   When we want to change the value and run-time or take some value from the user.\n",
    "### Where we use Variables:\n",
    "   Variable can be used at different places in a computer program where we want to change the value, take it from user or pass to some other variable or function. There are different types of variable in python like integer, string, char, long, float.\n",
    "### Applications:\n",
    "- Setting a Global Constant for Use Anywhere in BuildMaster.\n",
    "- Pulling Code from Different Branches.\n",
    "- Optional Behavior During a Particular Execution. \n",
    "- Setting the Build Configuration for Your Project for Each Build. \n",
    "- Changing a Path for a Particular Server in a Server Group.\n",
    "\n",
    "## Task\n",
    " - Write a Program which initializes three variable with integer, float and string data type and display all variable on output screen.\n",
    "     \n",
    "## Code"
   ]
  },
  {
   "cell_type": "code",
   "execution_count": 75,
   "id": "f64d0b65",
   "metadata": {},
   "outputs": [
    {
     "name": "stdout",
     "output_type": "stream",
     "text": [
      "Integer:  27\n",
      "Float:    4.8\n",
      "String:   MSCS\n"
     ]
    }
   ],
   "source": [
    "Increment = 27   # integer type variable\n",
    "print(\"Integer: \",Increment)\n",
    "\n",
    "Average = 4.8  # float type variable\n",
    "print(\"Float:   \",Average)\n",
    "\n",
    "Class = \"MSCS\"  # string type variable\n",
    "print(\"String:  \",Class)"
   ]
  },
  {
   "cell_type": "markdown",
   "id": "34d8ad13",
   "metadata": {},
   "source": [
    "# Examples - Variables:"
   ]
  },
  {
   "cell_type": "code",
   "execution_count": 11,
   "id": "150b89fe",
   "metadata": {},
   "outputs": [
    {
     "name": "stdout",
     "output_type": "stream",
     "text": [
      "1000.0\n",
      "1000\n",
      "Anam\n"
     ]
    }
   ],
   "source": [
    "counter = 1000.00 #float type variable\n",
    "miles = 1000 #integer type variable\n",
    "name = \"Anam\" #string type variable\n",
    "#print all values\n",
    "print (counter)\n",
    "print (miles)\n",
    "print (name)"
   ]
  },
  {
   "cell_type": "code",
   "execution_count": 7,
   "id": "e57623cb",
   "metadata": {},
   "outputs": [
    {
     "name": "stdout",
     "output_type": "stream",
     "text": [
      "Anam\n",
      "23\n",
      "Master in Computer Science\n"
     ]
    }
   ],
   "source": [
    "Name=\"Anam\"# String type\n",
    "Age=23 #integer type\n",
    "Education=\"Master in Computer Science\"#string type\n",
    "print(Name)\n",
    "print(Age)\n",
    "print(Education)"
   ]
  },
  {
   "cell_type": "code",
   "execution_count": 9,
   "id": "0af584f5",
   "metadata": {},
   "outputs": [
    {
     "name": "stdout",
     "output_type": "stream",
     "text": [
      "True\n",
      "False\n"
     ]
    }
   ],
   "source": [
    "Subject_Pass= True#bool type\n",
    "Subject_Fail= False#bool type\n",
    "print(Subject_Pass)\n",
    "print(Subject_Fail)"
   ]
  },
  {
   "cell_type": "code",
   "execution_count": 1,
   "id": "5b5ce203",
   "metadata": {},
   "outputs": [
    {
     "name": "stdout",
     "output_type": "stream",
     "text": [
      "Z\n"
     ]
    }
   ],
   "source": [
    "char='Z'#char type\n",
    "print(char)"
   ]
  },
  {
   "cell_type": "markdown",
   "id": "aca184cd",
   "metadata": {},
   "source": [
    "# 2.2 Numbers\n",
    "\n",
    "### Definition:\n",
    "Number data types store numeric values. They are immutable data types, means that changing the value of a number data type results in a newly allocated object. Number objects are created when you assign a value to them.\n",
    "\n",
    "### Why we use Numbers:\n",
    "We use numbers to perform mathematical operations.\n",
    "### When we use Number\n",
    "When we want to add, multiply, subtract, divide or other operation then we use numbers.\n",
    "### Where we use Number\n",
    "Numbers can be used where we have to deal with the mathematcal operation perform different kind or numerical operations.\n",
    "### Applications:\n",
    "Number type conversion in python are as follows:\n",
    "- Type int(x) to convert x to a plain integer.\n",
    "- Type long(x) to convert x to a long integer.\n",
    "- Type float(x) to convert x to a floating-point number.\n",
    "- Type complex(x) to convert x to a complex number with real part x and imaginary part zero\n",
    "\n",
    "## Task\n",
    " - Write a Program to perform different operations with number type variables.\n",
    "     \n",
    "## Code "
   ]
  },
  {
   "cell_type": "code",
   "execution_count": 76,
   "id": "a161160e",
   "metadata": {},
   "outputs": [
    {
     "name": "stdout",
     "output_type": "stream",
     "text": [
      "Number data type variables: \n",
      "Integer:  12\n",
      "Float:  68.5\n",
      "Float:  16.2\n",
      "Exponent:  49\n"
     ]
    }
   ],
   "source": [
    "print(\"Number data type variables: \")\n",
    "\n",
    "a = 5+7  # integer\n",
    "print(\"Integer: \",a)\n",
    "\n",
    "b = 68.5  # float\n",
    "print(\"Float: \",b)\n",
    "\n",
    "c = 4.5*3.6  # float\n",
    "print(\"Float: \",c)\n",
    "\n",
    "d = 7**2  # exponent\n",
    "print(\"Exponent: \",d)"
   ]
  },
  {
   "cell_type": "markdown",
   "id": "b064063f",
   "metadata": {},
   "source": [
    "# Examples- Numbers"
   ]
  },
  {
   "cell_type": "code",
   "execution_count": 8,
   "id": "d61c94a4",
   "metadata": {},
   "outputs": [
    {
     "data": {
      "text/plain": [
       "11j"
      ]
     },
     "execution_count": 8,
     "metadata": {},
     "output_type": "execute_result"
    }
   ],
   "source": [
    "11j#complex"
   ]
  },
  {
   "cell_type": "code",
   "execution_count": 12,
   "id": "c47d9987",
   "metadata": {},
   "outputs": [
    {
     "data": {
      "text/plain": [
       "10"
      ]
     },
     "execution_count": 12,
     "metadata": {},
     "output_type": "execute_result"
    }
   ],
   "source": [
    "5+5#integer"
   ]
  },
  {
   "cell_type": "code",
   "execution_count": 4,
   "id": "db27bc9f",
   "metadata": {},
   "outputs": [
    {
     "data": {
      "text/plain": [
       "6.9"
      ]
     },
     "execution_count": 4,
     "metadata": {},
     "output_type": "execute_result"
    }
   ],
   "source": [
    "2.4+4.5#float"
   ]
  },
  {
   "cell_type": "code",
   "execution_count": 7,
   "id": "e07e5b8e",
   "metadata": {},
   "outputs": [
    {
     "data": {
      "text/plain": [
       "3.84"
      ]
     },
     "execution_count": 7,
     "metadata": {},
     "output_type": "execute_result"
    }
   ],
   "source": [
    "3.2*1.2#float"
   ]
  },
  {
   "cell_type": "code",
   "execution_count": 17,
   "id": "5b48c553",
   "metadata": {},
   "outputs": [
    {
     "data": {
      "text/plain": [
       "2.0"
      ]
     },
     "execution_count": 17,
     "metadata": {},
     "output_type": "execute_result"
    }
   ],
   "source": [
    "6/3#integer"
   ]
  },
  {
   "cell_type": "code",
   "execution_count": 18,
   "id": "4469227c",
   "metadata": {},
   "outputs": [
    {
     "data": {
      "text/plain": [
       "24"
      ]
     },
     "execution_count": 18,
     "metadata": {},
     "output_type": "execute_result"
    }
   ],
   "source": [
    "8*3#integer"
   ]
  },
  {
   "cell_type": "code",
   "execution_count": 20,
   "id": "09fc8165",
   "metadata": {},
   "outputs": [
    {
     "data": {
      "text/plain": [
       "25"
      ]
     },
     "execution_count": 20,
     "metadata": {},
     "output_type": "execute_result"
    }
   ],
   "source": [
    "5**2#exponent"
   ]
  },
  {
   "cell_type": "code",
   "execution_count": 22,
   "id": "3c3c3c30",
   "metadata": {},
   "outputs": [
    {
     "data": {
      "text/plain": [
       "1.75"
      ]
     },
     "execution_count": 22,
     "metadata": {},
     "output_type": "execute_result"
    }
   ],
   "source": [
    "7/4.0#float"
   ]
  },
  {
   "cell_type": "code",
   "execution_count": 3,
   "id": "312c2aa7",
   "metadata": {},
   "outputs": [
    {
     "data": {
      "text/plain": [
       "27.5j"
      ]
     },
     "execution_count": 3,
     "metadata": {},
     "output_type": "execute_result"
    }
   ],
   "source": [
    "11j*2.5#complex"
   ]
  },
  {
   "cell_type": "markdown",
   "id": "5bcd4018",
   "metadata": {},
   "source": [
    "# 2.3 Strings\n",
    "\n",
    "### Definition:\n",
    "-  String data types are used to store words or combination of words having letters, numbers, special characters etc.\n",
    "-  It can be stored by enclosing within single qoutes and double qoutes also.\n",
    "-  Python doesn't support char data type. It will be as String of length one in Python.\n",
    "\n",
    "### Why we use String:\n",
    "We use string to store collection of characters.\n",
    "### When we use String\n",
    "When we want to store more then on character of collection of characters. e.g for long paragraphs, names.\n",
    "### Where we use String\n",
    "Strings can be used where we have to deal with long length string that are containing more than one character. strings can be compare and concatinate.\n",
    "### Applications:\n",
    "- In Python, string is an immutable sequence data type. \n",
    "- It is the sequence of Unicode characters wrapped inside single, double, or triple quotes. The followings are valid string literals in Python.\n",
    "- A sequence is defined as an ordered collection of items. Hence, a string is an ordered collection of characters.\n",
    "\n",
    "## Task\n",
    " - Write a Program to initialize some string variables and display all of these on output screen.\n",
    "     \n",
    "## Code"
   ]
  },
  {
   "cell_type": "code",
   "execution_count": 78,
   "id": "c2406c73",
   "metadata": {},
   "outputs": [
    {
     "name": "stdout",
     "output_type": "stream",
     "text": [
      "String Variables: \n",
      "  (i):  MSCS\n",
      " (ii):  A\n",
      "(iii):  ALLAH KO PANA\n"
     ]
    }
   ],
   "source": [
    "print(\"String Variables: \")\n",
    "\n",
    "Class = 'MSCS'\n",
    "print(\"  (i): \",Class)\n",
    "\n",
    "Section = 'A'\n",
    "print(\" (ii): \",Section)\n",
    "\n",
    "Objective = 'ALLAH KO PANA'\n",
    "print(\"(iii): \",Passion)"
   ]
  },
  {
   "cell_type": "markdown",
   "id": "b4ec6006",
   "metadata": {},
   "source": [
    "# Examples - Strings"
   ]
  },
  {
   "cell_type": "code",
   "execution_count": 79,
   "id": "2867ff09",
   "metadata": {},
   "outputs": [
    {
     "name": "stdout",
     "output_type": "stream",
     "text": [
      "Anam COMSATS\n"
     ]
    }
   ],
   "source": [
    "name = 'Anam'\n",
    "university = \"COMSATS\"\n",
    "print(name,university)"
   ]
  },
  {
   "cell_type": "code",
   "execution_count": 27,
   "id": "ec1e5fb2",
   "metadata": {},
   "outputs": [
    {
     "name": "stdout",
     "output_type": "stream",
     "text": [
      "Female\n",
      "Machine Learning\n"
     ]
    }
   ],
   "source": [
    "Gender=\"Female\"\n",
    "Subject=\"Machine Learning\"\n",
    "print(Gender)\n",
    "print(Subject)"
   ]
  },
  {
   "cell_type": "code",
   "execution_count": 28,
   "id": "cf89a494",
   "metadata": {},
   "outputs": [
    {
     "name": "stdout",
     "output_type": "stream",
     "text": [
      "Pakistan\n",
      "Muslim\n"
     ]
    }
   ],
   "source": [
    "Country_Name=\"Pakistan\"\n",
    "Religion=\"Muslim\"\n",
    "print(Country_Name)\n",
    "print(Religion)"
   ]
  },
  {
   "cell_type": "code",
   "execution_count": 29,
   "id": "7a7da5f1",
   "metadata": {},
   "outputs": [
    {
     "name": "stdout",
     "output_type": "stream",
     "text": [
      "AnamKhurshid\n",
      "AnamKhurshid\n"
     ]
    }
   ],
   "source": [
    "fname=\"Anam\"\n",
    "lname=\"Khurshid\" \n",
    "fullname=fname+lname\n",
    "print(fullname)\n",
    "print(fname+lname)"
   ]
  },
  {
   "cell_type": "markdown",
   "id": "ead8203c",
   "metadata": {},
   "source": [
    "# Access values in String\n",
    "- Python doesn't support Character data type. These are treated as Strings of length one.\n",
    "- Square brackets are used to access substrings.\n",
    "- We can access a specific character or range of characters from string.<br>\n",
    "    It would be cleared by using following examples."
   ]
  },
  {
   "cell_type": "code",
   "execution_count": 38,
   "id": "8e6dfb33",
   "metadata": {},
   "outputs": [
    {
     "name": "stdout",
     "output_type": "stream",
     "text": [
      "string1[0]: W\n",
      "string1[0-5]: Welco\n"
     ]
    }
   ],
   "source": [
    "string1=\"Welcome to ATML\"\n",
    "print(\"string1[0]:\",string1[0])\n",
    "print(\"string1[0-5]:\",string1[0:5])"
   ]
  },
  {
   "cell_type": "code",
   "execution_count": 35,
   "id": "767b9d04",
   "metadata": {},
   "outputs": [
    {
     "name": "stdout",
     "output_type": "stream",
     "text": [
      "Last element of string: d\n"
     ]
    }
   ],
   "source": [
    "name=\"Anam Khurshid\"\n",
    "print(\"Last element of string:\", name[-1])"
   ]
  },
  {
   "cell_type": "code",
   "execution_count": 3,
   "id": "0d8d65c5",
   "metadata": {},
   "outputs": [
    {
     "name": "stdout",
     "output_type": "stream",
     "text": [
      "Third last element of string: h\n"
     ]
    }
   ],
   "source": [
    "name=\"Anam Khurshid\"\n",
    "print(\"Third last element of string:\", name[-3])"
   ]
  },
  {
   "cell_type": "code",
   "execution_count": 42,
   "id": "ca0b323a",
   "metadata": {},
   "outputs": [
    {
     "name": "stdout",
     "output_type": "stream",
     "text": [
      "by escaping 1: Pks\n"
     ]
    }
   ],
   "source": [
    "country=\"Pakistan\"\n",
    "print(\"by escaping 1:\",country[0:5:2])"
   ]
  },
  {
   "cell_type": "markdown",
   "id": "e48727ea",
   "metadata": {},
   "source": [
    "# Updating String\n",
    "\n",
    "- Value of the string can be updated by assigning a new value to it. New value will be replaced with older.\n",
    "- New value must be related (having same data type) to previous value of the string.\n",
    "- '+' operator will be used for this purpose like as follows:"
   ]
  },
  {
   "cell_type": "code",
   "execution_count": 10,
   "id": "3279d9d7",
   "metadata": {},
   "outputs": [
    {
     "name": "stdout",
     "output_type": "stream",
     "text": [
      "Updated string:  Hello Python\n"
     ]
    }
   ],
   "source": [
    "stringVariable = \"Hello World\"\n",
    "\n",
    "stringVariable = stringVariable[:6] + \"Python\"\n",
    "print(\"Updated string: \", stringVariable)"
   ]
  },
  {
   "cell_type": "code",
   "execution_count": 11,
   "id": "746938af",
   "metadata": {},
   "outputs": [
    {
     "name": "stdout",
     "output_type": "stream",
     "text": [
      "Updated Name: Anam Khurshid\n"
     ]
    }
   ],
   "source": [
    "Name=\"Anam\"\n",
    "Name=Name+\" Khurshid\"\n",
    "print(\"Updated Name:\",Name)"
   ]
  },
  {
   "cell_type": "code",
   "execution_count": 14,
   "id": "440b88aa",
   "metadata": {},
   "outputs": [
    {
     "name": "stdout",
     "output_type": "stream",
     "text": [
      "Updated String: Comsat University Lahore\n"
     ]
    }
   ],
   "source": [
    "uni=\"Comsats\"\n",
    "uni=uni[0:6]+\" University Lahore\"\n",
    "print(\"Updated String:\",uni)"
   ]
  },
  {
   "cell_type": "markdown",
   "id": "a2b6d36b",
   "metadata": {},
   "source": [
    "# Delete String\n",
    "\n",
    "- To delete the value of the string, by using replace(),Slice and concatenation.<br>\n",
    "See following example:"
   ]
  },
  {
   "cell_type": "code",
   "execution_count": 31,
   "id": "8fc843f7",
   "metadata": {},
   "outputs": [
    {
     "name": "stdout",
     "output_type": "stream",
     "text": [
      "hello Python\n",
      "heo Python\n"
     ]
    }
   ],
   "source": [
    "#Removal of Character from a String using replace() Method\n",
    "\n",
    "string1=\"hello Python\"\n",
    "print(string1)\n",
    "rep_string1=string1.replace('l','')\n",
    "print(rep_string1)"
   ]
  },
  {
   "cell_type": "code",
   "execution_count": 32,
   "id": "521f35aa",
   "metadata": {},
   "outputs": [
    {
     "name": "stdout",
     "output_type": "stream",
     "text": [
      "hello Python\n",
      "heddo Python\n"
     ]
    }
   ],
   "source": [
    "string1=\"hello Python\"\n",
    "print(string1)\n",
    "rep_string1=string1.replace('l','d')\n",
    "print(rep_string1)"
   ]
  },
  {
   "cell_type": "code",
   "execution_count": 33,
   "id": "d79d783b",
   "metadata": {},
   "outputs": [
    {
     "name": "stdout",
     "output_type": "stream",
     "text": [
      "hello Python\n",
      "helo Python\n"
     ]
    }
   ],
   "source": [
    "#Removal of Character from a String using Slicing and Concatenation\n",
    "\n",
    "string1=\"hello Python\"\n",
    "print(string1)\n",
    "rep_string1=string1[:2] + string1[3:]\n",
    "print(rep_string1)"
   ]
  },
  {
   "cell_type": "code",
   "execution_count": 34,
   "id": "e8f4090f",
   "metadata": {},
   "outputs": [
    {
     "name": "stdout",
     "output_type": "stream",
     "text": [
      "hello Python\n",
      "he Python\n"
     ]
    }
   ],
   "source": [
    "string1=\"hello Python\"\n",
    "print(string1)\n",
    "rep_string1=string1[:2] + string1[5:]\n",
    "print(rep_string1)"
   ]
  },
  {
   "cell_type": "markdown",
   "id": "56df75a4",
   "metadata": {},
   "source": [
    "# String Special Operators:\n",
    "- '+' is used to concatinate strings.\n",
    "- '*' is used to multiply string."
   ]
  },
  {
   "cell_type": "code",
   "execution_count": 18,
   "id": "afbda361",
   "metadata": {},
   "outputs": [
    {
     "name": "stdout",
     "output_type": "stream",
     "text": [
      "HelloPython\n"
     ]
    }
   ],
   "source": [
    "variable='Hello'\n",
    "print(variable+\"Python\")"
   ]
  },
  {
   "cell_type": "code",
   "execution_count": 19,
   "id": "361bf35d",
   "metadata": {},
   "outputs": [
    {
     "name": "stdout",
     "output_type": "stream",
     "text": [
      "Helloworld\n"
     ]
    }
   ],
   "source": [
    "print(variable+'world')"
   ]
  },
  {
   "cell_type": "code",
   "execution_count": 20,
   "id": "515f55c4",
   "metadata": {},
   "outputs": [
    {
     "name": "stdout",
     "output_type": "stream",
     "text": [
      "Hello Anam\n"
     ]
    }
   ],
   "source": [
    "print(variable+' Anam')"
   ]
  },
  {
   "cell_type": "code",
   "execution_count": 21,
   "id": "e88b18f1",
   "metadata": {},
   "outputs": [
    {
     "name": "stdout",
     "output_type": "stream",
     "text": [
      "HelloHelloHello\n"
     ]
    }
   ],
   "source": [
    "print(variable*3)"
   ]
  },
  {
   "cell_type": "code",
   "execution_count": 23,
   "id": "932e52f1",
   "metadata": {},
   "outputs": [
    {
     "name": "stdout",
     "output_type": "stream",
     "text": [
      "AnamAnam\n"
     ]
    }
   ],
   "source": [
    "print('Anam'*2)"
   ]
  },
  {
   "cell_type": "code",
   "execution_count": 24,
   "id": "a5ea00ca",
   "metadata": {},
   "outputs": [
    {
     "name": "stdout",
     "output_type": "stream",
     "text": [
      "KhurshidKhurshid\n"
     ]
    }
   ],
   "source": [
    "print('Khurshid'*2)"
   ]
  },
  {
   "cell_type": "markdown",
   "id": "5b16a78f",
   "metadata": {},
   "source": [
    "### [] is used to take the character of string at given index."
   ]
  },
  {
   "cell_type": "code",
   "execution_count": 25,
   "id": "8422fd0c",
   "metadata": {},
   "outputs": [
    {
     "name": "stdout",
     "output_type": "stream",
     "text": [
      "e\n"
     ]
    }
   ],
   "source": [
    "print(variable[1])"
   ]
  },
  {
   "cell_type": "code",
   "execution_count": 27,
   "id": "12201c22",
   "metadata": {},
   "outputs": [
    {
     "name": "stdout",
     "output_type": "stream",
     "text": [
      "ell\n"
     ]
    }
   ],
   "source": [
    "print(variable[1:4])"
   ]
  },
  {
   "cell_type": "code",
   "execution_count": 28,
   "id": "25eef206",
   "metadata": {},
   "outputs": [
    {
     "name": "stdout",
     "output_type": "stream",
     "text": [
      "o\n"
     ]
    }
   ],
   "source": [
    "print(variable[-1])# gives the last character of string "
   ]
  },
  {
   "cell_type": "markdown",
   "id": "038fad22",
   "metadata": {},
   "source": [
    "### \"In\" return true or to access the value in string"
   ]
  },
  {
   "cell_type": "code",
   "execution_count": 30,
   "id": "0e24e8b2",
   "metadata": {},
   "outputs": [
    {
     "name": "stdout",
     "output_type": "stream",
     "text": [
      "True\n"
     ]
    }
   ],
   "source": [
    "print('H' in variable)"
   ]
  },
  {
   "cell_type": "code",
   "execution_count": 31,
   "id": "e842edc0",
   "metadata": {},
   "outputs": [
    {
     "name": "stdout",
     "output_type": "stream",
     "text": [
      "False\n"
     ]
    }
   ],
   "source": [
    "print('a' in variable)"
   ]
  },
  {
   "cell_type": "code",
   "execution_count": 32,
   "id": "59a86451",
   "metadata": {},
   "outputs": [
    {
     "name": "stdout",
     "output_type": "stream",
     "text": [
      "True\n"
     ]
    }
   ],
   "source": [
    "print('z' not in variable)"
   ]
  },
  {
   "cell_type": "markdown",
   "id": "c293c6a9",
   "metadata": {},
   "source": [
    "## String formatting operator:"
   ]
  },
  {
   "cell_type": "code",
   "execution_count": 35,
   "id": "81139911",
   "metadata": {},
   "outputs": [
    {
     "name": "stdout",
     "output_type": "stream",
     "text": [
      "My name is Anam and age is 23\n"
     ]
    }
   ],
   "source": [
    "print('My name is %s and age is %d'%('Anam',23))"
   ]
  },
  {
   "cell_type": "code",
   "execution_count": 38,
   "id": "ef54408a",
   "metadata": {},
   "outputs": [
    {
     "name": "stdout",
     "output_type": "stream",
     "text": [
      "My father name is Khurshid and age is 56 \n"
     ]
    }
   ],
   "source": [
    "print('My father name is %s and age is %d '%('Khurshid',56))"
   ]
  },
  {
   "cell_type": "code",
   "execution_count": 41,
   "id": "26dfd580",
   "metadata": {},
   "outputs": [
    {
     "name": "stdout",
     "output_type": "stream",
     "text": [
      "My aunt weight is 48\n"
     ]
    }
   ],
   "source": [
    "print('My aunt weight is %d'%(48))"
   ]
  },
  {
   "cell_type": "markdown",
   "id": "ae3f9a29",
   "metadata": {},
   "source": [
    "# 2.4 Lists\n",
    "\n",
    "### Defintion:\n",
    "\n",
    "- A list is a data structure in Python that is a mutable, or changeable, ordered sequence of elements. \n",
    "- Each element or value that is inside of a list is called an item\n",
    "-  It can be written as a list of comma-saperated values within square bracket.\n",
    "-  Multiple data types can be stored in a list\n",
    "-  individual element of a list can be changed\n",
    "-  list indices stats from 0 just like arrays.\n",
    "\n",
    "### Why we use Lists\n",
    "\n",
    "We use list to store multiple data types.\n",
    "\n",
    "### When we use Lists\n",
    "When we want to store more then one different data type. \n",
    "### Where we use Lists\n",
    "Strings can be used where we have to deal with the different data types and change them at run time.Data can be easily populate and edit in lists."
   ]
  },
  {
   "cell_type": "markdown",
   "id": "dfa516e3",
   "metadata": {},
   "source": [
    "### Applications:\n",
    "\n",
    "12 Real-world Applications of Python are:\n",
    "- Web Development. \n",
    "- Game Development. \n",
    "- Scientific and Numeric Applications. \n",
    "- Artificial Intelligence and Machine Learning. \n",
    "- Software Development. \n",
    "- Enterprise-level/Business Applications. \n",
    "- Education programs and training courses. \n",
    "- Language Development."
   ]
  },
  {
   "cell_type": "markdown",
   "id": "a1ba6279",
   "metadata": {},
   "source": [
    "## Task\n",
    " - Write a Program which initializes an Integer List with following numbers and prints them on the Output Screen.\n",
    "                                            3, 10, 19, 22, 27, 5\n",
    "                                             \n",
    "## Code"
   ]
  },
  {
   "cell_type": "code",
   "execution_count": 81,
   "id": "384a8d64",
   "metadata": {},
   "outputs": [
    {
     "name": "stdout",
     "output_type": "stream",
     "text": [
      "List Example 1 :  [3, 10, 19, 22, 27, 5]\n"
     ]
    }
   ],
   "source": [
    "Lst1 = [3, 10, 19, 22, 27, 5]\n",
    "print(\"List Example 1 : \", Lst1)"
   ]
  },
  {
   "cell_type": "markdown",
   "id": "95199de7",
   "metadata": {},
   "source": [
    "# Examples - Lists:"
   ]
  },
  {
   "cell_type": "code",
   "execution_count": 7,
   "id": "acfbc570",
   "metadata": {},
   "outputs": [
    {
     "name": "stdout",
     "output_type": "stream",
     "text": [
      "['Anam', 'Maryam', 'Maham', 1, 2, 3]\n"
     ]
    }
   ],
   "source": [
    "PNames=['Anam','Maryam','Maham',1,2,3]\n",
    "age=[23,24,26]\n",
    "print(PNames)"
   ]
  },
  {
   "cell_type": "markdown",
   "id": "7f5c0ee5",
   "metadata": {},
   "source": [
    "# Accessing values from lists:"
   ]
  },
  {
   "cell_type": "code",
   "execution_count": 8,
   "id": "ff67deb7",
   "metadata": {},
   "outputs": [
    {
     "name": "stdout",
     "output_type": "stream",
     "text": [
      "Maham\n"
     ]
    }
   ],
   "source": [
    "print(PNames[2])"
   ]
  },
  {
   "cell_type": "code",
   "execution_count": 9,
   "id": "03df10cd",
   "metadata": {},
   "outputs": [
    {
     "name": "stdout",
     "output_type": "stream",
     "text": [
      "3\n"
     ]
    }
   ],
   "source": [
    "print(PNames[-1])"
   ]
  },
  {
   "cell_type": "code",
   "execution_count": 45,
   "id": "70fe277c",
   "metadata": {},
   "outputs": [
    {
     "name": "stdout",
     "output_type": "stream",
     "text": [
      "[23, 24]\n"
     ]
    }
   ],
   "source": [
    "print(age[0:2])"
   ]
  },
  {
   "cell_type": "markdown",
   "id": "bf04d20d",
   "metadata": {},
   "source": [
    "# Updating Lists\n",
    "- list can be updated by append() function."
   ]
  },
  {
   "cell_type": "code",
   "execution_count": 10,
   "id": "90c77473",
   "metadata": {},
   "outputs": [
    {
     "name": "stdout",
     "output_type": "stream",
     "text": [
      "['Anam', 'Maryam', 'Maham', 1, 'Manha', 3]\n"
     ]
    }
   ],
   "source": [
    "PNames[4]='Manha'\n",
    "print(PNames)"
   ]
  },
  {
   "cell_type": "code",
   "execution_count": 11,
   "id": "fb718702",
   "metadata": {},
   "outputs": [
    {
     "data": {
      "text/plain": [
       "['Anam', 'Maryam', 'Maham', 1, 'Manha', 3, 'Amal']"
      ]
     },
     "execution_count": 11,
     "metadata": {},
     "output_type": "execute_result"
    }
   ],
   "source": [
    "PNames.append('Amal')\n",
    "PNames"
   ]
  },
  {
   "cell_type": "code",
   "execution_count": 12,
   "id": "da6f8873",
   "metadata": {},
   "outputs": [
    {
     "name": "stdout",
     "output_type": "stream",
     "text": [
      "['Anam', 'Maryam', 'Maham', 1, 'Manha', 3, 'Amal', 'Bisma']\n"
     ]
    },
    {
     "data": {
      "text/plain": [
       "[23, 24, 26, 50]"
      ]
     },
     "execution_count": 12,
     "metadata": {},
     "output_type": "execute_result"
    }
   ],
   "source": [
    "PNames.append('Bisma')\n",
    "print(PNames)\n",
    "age.append(50)\n",
    "age"
   ]
  },
  {
   "cell_type": "markdown",
   "id": "579fe49c",
   "metadata": {},
   "source": [
    "# Delete list element\n",
    "- del is used to remove when you know the index of value\n",
    "- remove() is used to remove when you dont know the address"
   ]
  },
  {
   "cell_type": "code",
   "execution_count": 15,
   "id": "1c2ac21f",
   "metadata": {},
   "outputs": [
    {
     "name": "stdout",
     "output_type": "stream",
     "text": [
      "['Anam', 'Maryam', 'Maham', 1, 'Manha', 3, 'Bisma']\n"
     ]
    }
   ],
   "source": [
    "print(PNames)\n",
    "del(PNames[3])"
   ]
  },
  {
   "cell_type": "code",
   "execution_count": 16,
   "id": "4c023037",
   "metadata": {},
   "outputs": [
    {
     "name": "stdout",
     "output_type": "stream",
     "text": [
      "['Anam', 'Maryam', 'Maham', 'Manha', 3, 'Bisma']\n"
     ]
    }
   ],
   "source": [
    "print(PNames)"
   ]
  },
  {
   "cell_type": "code",
   "execution_count": 17,
   "id": "366df406",
   "metadata": {},
   "outputs": [
    {
     "data": {
      "text/plain": [
       "['Anam', 'Maryam', 'Manha', 3, 'Bisma']"
      ]
     },
     "execution_count": 17,
     "metadata": {},
     "output_type": "execute_result"
    }
   ],
   "source": [
    "PNames.remove('Maham')\n",
    "PNames"
   ]
  },
  {
   "cell_type": "code",
   "execution_count": 35,
   "id": "26e4f2ae",
   "metadata": {},
   "outputs": [
    {
     "name": "stdout",
     "output_type": "stream",
     "text": [
      "before deleting element from list of age : [23, 24, 26, 50]\n",
      "after deleting element from list of age: [23, 24, 50]\n"
     ]
    }
   ],
   "source": [
    "print('before deleting element from list of age :',age)\n",
    "del age[2]\n",
    "print('after deleting element from list of age:', age)"
   ]
  },
  {
   "cell_type": "code",
   "execution_count": 36,
   "id": "c4db67c0",
   "metadata": {},
   "outputs": [
    {
     "name": "stdout",
     "output_type": "stream",
     "text": [
      "[23, 24]\n"
     ]
    }
   ],
   "source": [
    "age.remove(50)\n",
    "print(age)"
   ]
  },
  {
   "cell_type": "code",
   "execution_count": 37,
   "id": "4a456b63",
   "metadata": {},
   "outputs": [
    {
     "name": "stdout",
     "output_type": "stream",
     "text": [
      "[23]\n"
     ]
    }
   ],
   "source": [
    "age.pop()#pop will pop the last element\n",
    "print(age)"
   ]
  },
  {
   "cell_type": "markdown",
   "id": "270c854f",
   "metadata": {},
   "source": [
    "# 2.5 Dictionaries\n",
    "\n",
    "### Definition:\n",
    "- The dictionary is an unordered collection that contains key:value pairs separated by commas inside curly brackets.\n",
    "-  It is same as array of objects having key and values in PHP.\n",
    "-  Each key is seperated by colon (:) from its value.\n",
    "-  Each item is seperated with comma (,).\n",
    "-  Empty dictionary can be written as {}.\n",
    "-  Keys are unique in dictionary but values may not.\n",
    "-  The values of the dictionary can be of any data type.\n",
    "-  The keys must be of an immutable data type such as strings, numbers, or tuples.\n",
    "\n",
    "### Why we use Lists\n",
    "\n",
    "We use  Dictionaries when values are required with their keys.\n",
    "\n",
    "### When we use Lists\n",
    "\n",
    "When we want to store more than on type of data with thier keys.\n",
    "### Where we use Lists\n",
    "Dictionaries can be used where we have to deal with the different data types and change them at run time. data can access with thier keys"
   ]
  },
  {
   "cell_type": "markdown",
   "id": "42c2331b",
   "metadata": {},
   "source": [
    "### Applications:\n",
    "\n",
    "- Data storage:\n",
    "so instead of remembering that a person’s name is at list index 0, and the address is at list index 1 - we can create a dictionary with keys of ‘name’ and ‘address’.\n",
    "- literally maps : Say you are building a map of objects on a game field - so each object has an (x,y) co-ordinate. Instead of a big list which is mostly empty showing each of the objects - you have a dictionary with the key being a tuple of the (x,y) co-ordinate, and the value being the object at that location.\n",
    "- You can use a dictionary as a jump table to emulate a switch type statement.\n",
    "- You can use a dictionary to easily count the content of a list.\n",
    "- You can use a dictionary to build indexes of content."
   ]
  },
  {
   "cell_type": "markdown",
   "id": "f6be4b56",
   "metadata": {},
   "source": [
    "## Task:\n"
   ]
  },
  {
   "cell_type": "markdown",
   "id": "a5b73f9a",
   "metadata": {},
   "source": [
    " - Write a Program which initializes two dictionariesan \"One for Integer type values and second for mixed values) and display the dictionaries on output screen.\n",
    "                                             \n",
    "## Code"
   ]
  },
  {
   "cell_type": "code",
   "execution_count": 83,
   "id": "eede7d96",
   "metadata": {},
   "outputs": [
    {
     "name": "stdout",
     "output_type": "stream",
     "text": [
      "\n",
      "Dictionary with the use of Integer Keys: \n",
      "{1: 'Allah', 2: 'is', 3: 'Great'}\n",
      "\n",
      "Dictionary with the use of Mixed Keys: \n",
      "{'Name': 'Anam', 1: [1, 2, 3, 4]}\n"
     ]
    }
   ],
   "source": [
    "# Creating a Dictionary  \n",
    "# with Integer Keys \n",
    "Dict = {1: 'Allah', 2: 'is', 3: 'Great'} \n",
    "print(\"\\nDictionary with the use of Integer Keys: \") \n",
    "print(Dict) \n",
    "  \n",
    "# Creating a Dictionary  \n",
    "# with Mixed keys \n",
    "Dict = {'Name': 'Anam', 1: [1, 2, 3, 4]} \n",
    "print(\"\\nDictionary with the use of Mixed Keys: \") \n",
    "print(Dict) "
   ]
  },
  {
   "cell_type": "markdown",
   "id": "0b88eb96",
   "metadata": {},
   "source": [
    "# Examples of Dictionaries:\n",
    "\n",
    "# Accessing value in Dictionaries\n",
    "- square bracket are used to access the values."
   ]
  },
  {
   "cell_type": "code",
   "execution_count": 39,
   "id": "d6a362fe",
   "metadata": {},
   "outputs": [
    {
     "name": "stdout",
     "output_type": "stream",
     "text": [
      "Anam\n"
     ]
    }
   ],
   "source": [
    "dict1={'name':'Anam','age':23,\"dept\":\"Computer Science\", 'Class':'MSCS'}\n",
    "print(dict1['name'])"
   ]
  },
  {
   "cell_type": "code",
   "execution_count": 40,
   "id": "c112c145",
   "metadata": {},
   "outputs": [
    {
     "name": "stdout",
     "output_type": "stream",
     "text": [
      "23\n"
     ]
    }
   ],
   "source": [
    "print(dict1['age'])"
   ]
  },
  {
   "cell_type": "code",
   "execution_count": 42,
   "id": "2763964a",
   "metadata": {},
   "outputs": [
    {
     "name": "stdout",
     "output_type": "stream",
     "text": [
      "Zainab\n"
     ]
    }
   ],
   "source": [
    "dict2={1:'Anam',2:'Manha',3:'Zainab'}\n",
    "print(dict2[3])"
   ]
  },
  {
   "cell_type": "markdown",
   "id": "9f726bc7",
   "metadata": {},
   "source": [
    "# Updating  Dictionaries\n",
    "- We can update already existing Values.\n",
    "- We can also add new values."
   ]
  },
  {
   "cell_type": "code",
   "execution_count": 44,
   "id": "042b2c63",
   "metadata": {},
   "outputs": [
    {
     "name": "stdout",
     "output_type": "stream",
     "text": [
      "{1: 'Anam', 2: 'Manha', 3: 'Zainab', 4: 'Maryam'}\n"
     ]
    }
   ],
   "source": [
    "dict2[4]='Maryam'\n",
    "print(dict2)"
   ]
  },
  {
   "cell_type": "code",
   "execution_count": 45,
   "id": "6dde8360",
   "metadata": {},
   "outputs": [],
   "source": [
    "dict1['Subject']='Machine Learning'"
   ]
  },
  {
   "cell_type": "code",
   "execution_count": 46,
   "id": "fa002153",
   "metadata": {},
   "outputs": [],
   "source": [
    "dict2[5]='Fatima'"
   ]
  },
  {
   "cell_type": "code",
   "execution_count": 47,
   "id": "6b097efa",
   "metadata": {},
   "outputs": [
    {
     "name": "stdout",
     "output_type": "stream",
     "text": [
      "{'name': 'Anam', 'age': 23, 'dept': 'Computer Science', 'Class': 'MSCS', 'Subject': 'Machine Learning'} \n",
      " {1: 'Anam', 2: 'Manha', 3: 'Zainab', 4: 'Maryam', 5: 'Fatima'}\n"
     ]
    }
   ],
   "source": [
    "print(dict1, \"\\n\" , dict2)"
   ]
  },
  {
   "cell_type": "markdown",
   "id": "5e7f708c",
   "metadata": {},
   "source": [
    "# Deleting Dictionaries\n",
    "- We can delete individual elements and can delete complete content of dictionary.\n",
    "- del is used for individual element removal and clear() function is used to remove entire dictionary."
   ]
  },
  {
   "cell_type": "code",
   "execution_count": 48,
   "id": "be3ef429",
   "metadata": {},
   "outputs": [
    {
     "name": "stdout",
     "output_type": "stream",
     "text": [
      "{'name': 'Anam', 'age': 23, 'dept': 'Computer Science', 'Class': 'MSCS'}\n",
      "{'name': 'Anam', 'age': 23, 'dept': 'Computer Science'}\n"
     ]
    }
   ],
   "source": [
    "dict3={'name':'Anam','age':23,\"dept\":\"Computer Science\", 'Class':'MSCS'}\n",
    "print(dict3)\n",
    "\n",
    "del dict3['Class']\n",
    "print(dict3)"
   ]
  },
  {
   "cell_type": "code",
   "execution_count": 49,
   "id": "966beb67",
   "metadata": {},
   "outputs": [
    {
     "name": "stdout",
     "output_type": "stream",
     "text": [
      "{'name': 'Anam', 'age': 23}\n"
     ]
    }
   ],
   "source": [
    "del dict3['dept']\n",
    "print(dict3)"
   ]
  },
  {
   "cell_type": "code",
   "execution_count": 50,
   "id": "5e81445b",
   "metadata": {},
   "outputs": [
    {
     "name": "stdout",
     "output_type": "stream",
     "text": [
      "{}\n"
     ]
    }
   ],
   "source": [
    "dict3.clear()\n",
    "print(dict3)"
   ]
  },
  {
   "cell_type": "code",
   "execution_count": 51,
   "id": "fd76dba1",
   "metadata": {},
   "outputs": [
    {
     "name": "stdout",
     "output_type": "stream",
     "text": [
      "{2: 'Maham', 3: 'Maryam'}\n"
     ]
    }
   ],
   "source": [
    "dict4={1:'Anam',2:'Maham',3:'Maryam'}\n",
    "del dict4[1]\n",
    "print(dict4)"
   ]
  },
  {
   "cell_type": "code",
   "execution_count": 52,
   "id": "893d1d18",
   "metadata": {},
   "outputs": [],
   "source": [
    "dict4.clear()"
   ]
  },
  {
   "cell_type": "code",
   "execution_count": 53,
   "id": "cbbe128e",
   "metadata": {},
   "outputs": [
    {
     "name": "stdout",
     "output_type": "stream",
     "text": [
      "{}\n"
     ]
    }
   ],
   "source": [
    "print(dict4)"
   ]
  },
  {
   "cell_type": "markdown",
   "id": "4855e94b",
   "metadata": {},
   "source": [
    "# 2.6 Tuples\n",
    "## Definition\n",
    " - A tuple is a collecion of unordered objects.\n",
    " - A tuple is immutable.\n",
    " - Just like lists tuples are also sequences.\n",
    " - Difference between tuples and lists that unlike lists tuple items cannot be changed once items are assigned to tuple.\n",
    " - Tuples use parentheses, whereas lists use square brackets.\n",
    " - Tuples items are seprated by commas in parenthesis.\n",
    " - Tuples are immutable data structure.\n",
    "    \n",
    "### Why we use Tuples\n",
    "    we use  Tuples to store values of different data types .\n",
    "### When we use Tuples\n",
    "    when we want to store more than on type of data but it can not change on runtime.\n",
    "### Where we use Tuples\n",
    "     Tuples can be used where we have to deal with the different data types but values can not be changed.\n",
    "     \n",
    "## Applications:\n",
    "There are many applications we are using in our daily life which are using tuples data structure. Following are some common applications.\n",
    " - Tuples are used for creating views for end users.\n",
    " - Best for applications where we need to group data together.\n",
    " - Useful records visualization."
   ]
  },
  {
   "cell_type": "markdown",
   "id": "6e17423e",
   "metadata": {},
   "source": [
    "## Examples - Tuples"
   ]
  },
  {
   "cell_type": "markdown",
   "id": "9e75cba1",
   "metadata": {},
   "source": [
    "## Task\n",
    " - Write a Python program to create the following two tuples with different data types and display on output screen.\n",
    "                   (‘ATML’, ‘ Python’, ‘tutorial’)\n",
    "                   (‘ATML’, 24, 78.362)\n",
    "                                             \n",
    "## Code"
   ]
  },
  {
   "cell_type": "code",
   "execution_count": 1,
   "id": "4934280e",
   "metadata": {},
   "outputs": [
    {
     "name": "stdout",
     "output_type": "stream",
     "text": [
      "Same data types:  ('ATML', 'Python', 'tutorial')\n",
      "Different data types:  ('ATML', 24, 78.362)\n"
     ]
    }
   ],
   "source": [
    "tup1 = ('ATML', 'Python', 'tutorial')\n",
    "tup2 = ('ATML', 24, 78.362)\n",
    "print (\"Same data types: \",tup1)\n",
    "print (\"Different data types: \",tup2)"
   ]
  },
  {
   "cell_type": "markdown",
   "id": "5bf5053f",
   "metadata": {},
   "source": [
    "# Accessing value in Tuples\n",
    "- square bracket are used to access the values."
   ]
  },
  {
   "cell_type": "code",
   "execution_count": 2,
   "id": "2191dcd6",
   "metadata": {},
   "outputs": [
    {
     "name": "stdout",
     "output_type": "stream",
     "text": [
      "('Anam', 'Khurshid', 'Maryam', 'Usama', 1, 2, 3)\n"
     ]
    }
   ],
   "source": [
    "tup=('Anam','Khurshid','Maryam','Usama',1,2,3)\n",
    "print(tup)"
   ]
  },
  {
   "cell_type": "code",
   "execution_count": 3,
   "id": "6ddac4ce",
   "metadata": {},
   "outputs": [
    {
     "name": "stdout",
     "output_type": "stream",
     "text": [
      "4\n"
     ]
    }
   ],
   "source": [
    "tup2=(1,2,3,4,5,6)\n",
    "print(tup2[-3])"
   ]
  },
  {
   "cell_type": "code",
   "execution_count": 4,
   "id": "fe921011",
   "metadata": {},
   "outputs": [
    {
     "name": "stdout",
     "output_type": "stream",
     "text": [
      "('Anam', 5.5, 66, 2.6)\n"
     ]
    }
   ],
   "source": [
    "tup3=(2.6,66,5.5,'Anam')\n",
    "print(tup3[::-1])#print all in reverse order"
   ]
  },
  {
   "cell_type": "markdown",
   "id": "f474586b",
   "metadata": {},
   "source": [
    "# 2.6.2 Updating tuples\n",
    " - Once you have assigned values to a tuple, you can't change the values.\n",
    " - As we already mentioned the tuples are unchangeable or immutable.\n",
    " - You can only change tuples by converting tuples into list and then convert back to the tuple after updation."
   ]
  },
  {
   "cell_type": "code",
   "execution_count": 5,
   "id": "9aa12ca2",
   "metadata": {},
   "outputs": [
    {
     "name": "stdout",
     "output_type": "stream",
     "text": [
      "(1, 2, 3, 4, 5, 6, 2.6, 66, 5.5, 'Anam')\n"
     ]
    }
   ],
   "source": [
    "tup2=(1,2,3,4,5,6)\n",
    "tup3=(2.6,66,5.5,'Anam')\n",
    "#following action are not valid in case of tuple\n",
    "# tup2[1]=100\n",
    "\n",
    "\n",
    "#so create a new tuple\n",
    "tup4=tup2+tup3\n",
    "print(tup4)"
   ]
  },
  {
   "cell_type": "code",
   "execution_count": 6,
   "id": "03e71a55",
   "metadata": {},
   "outputs": [
    {
     "name": "stdout",
     "output_type": "stream",
     "text": [
      "(1, 2, 3, 4, 5, 6, 2.6, 66, 5.5, 'Anam', 'Anam', 'Khurshid', 'Maryam', 'Usama', 1, 2, 3)\n"
     ]
    }
   ],
   "source": [
    "tup5=tup4+tup\n",
    "print(tup5)"
   ]
  },
  {
   "cell_type": "code",
   "execution_count": 7,
   "id": "36d0d6f5",
   "metadata": {},
   "outputs": [
    {
     "data": {
      "text/plain": [
       "('Anam', 'Khurshid', 'Maryam', 'Usama', 1, 2, 3, 1, 2, 3, 4, 5, 6)"
      ]
     },
     "execution_count": 7,
     "metadata": {},
     "output_type": "execute_result"
    }
   ],
   "source": [
    "tup6=tup+tup2\n",
    "tup6"
   ]
  },
  {
   "cell_type": "markdown",
   "id": "b3a31ad2",
   "metadata": {},
   "source": [
    "# Delete Tuple Elements\n",
    "- Removing tuple element is not possible because they can not be updated\n",
    "- del statment is used to remove entire tuple"
   ]
  },
  {
   "cell_type": "code",
   "execution_count": 8,
   "id": "366f590b",
   "metadata": {},
   "outputs": [
    {
     "name": "stdout",
     "output_type": "stream",
     "text": [
      "(1, 2, 3, 4, 5, 6)\n",
      "after removing tuple\n",
      "<class 'tuple'>\n"
     ]
    }
   ],
   "source": [
    "tuple=(1,2,3,4,5,6)\n",
    "print(tuple)\n",
    "del tuple\n",
    "print('after removing tuple')\n",
    "print(tuple)"
   ]
  },
  {
   "cell_type": "code",
   "execution_count": 11,
   "id": "1f6b1990",
   "metadata": {},
   "outputs": [
    {
     "name": "stdout",
     "output_type": "stream",
     "text": [
      "(2.6, 66, 5.5, 'Anam')\n"
     ]
    },
    {
     "ename": "NameError",
     "evalue": "name 'tuple7' is not defined",
     "output_type": "error",
     "traceback": [
      "\u001b[1;31m---------------------------------------------------------------------------\u001b[0m",
      "\u001b[1;31mNameError\u001b[0m                                 Traceback (most recent call last)",
      "\u001b[1;32m<ipython-input-11-455ea229026e>\u001b[0m in \u001b[0;36m<module>\u001b[1;34m\u001b[0m\n\u001b[0;32m      2\u001b[0m \u001b[0mprint\u001b[0m\u001b[1;33m(\u001b[0m\u001b[0mtuple7\u001b[0m\u001b[1;33m)\u001b[0m\u001b[1;33m\u001b[0m\u001b[1;33m\u001b[0m\u001b[0m\n\u001b[0;32m      3\u001b[0m \u001b[1;32mdel\u001b[0m\u001b[1;33m(\u001b[0m\u001b[0mtuple7\u001b[0m\u001b[1;33m)\u001b[0m   \u001b[1;31m#del keyword can delete the tuple completely\u001b[0m\u001b[1;33m\u001b[0m\u001b[1;33m\u001b[0m\u001b[0m\n\u001b[1;32m----> 4\u001b[1;33m \u001b[0mprint\u001b[0m\u001b[1;33m(\u001b[0m\u001b[0mtuple7\u001b[0m\u001b[1;33m)\u001b[0m \u001b[1;31m#this will raise an error because the tuple no longer exists\u001b[0m\u001b[1;33m\u001b[0m\u001b[1;33m\u001b[0m\u001b[0m\n\u001b[0m",
      "\u001b[1;31mNameError\u001b[0m: name 'tuple7' is not defined"
     ]
    }
   ],
   "source": [
    "tuple7=(2.6,66,5.5,'Anam')\n",
    "print(tuple7)\n",
    "del(tuple7)   #del keyword can delete the tuple completely\n",
    "print(tuple7) #this will raise an error because the tuple no longer exists"
   ]
  },
  {
   "cell_type": "markdown",
   "id": "18af39ee",
   "metadata": {},
   "source": [
    "# 2.7 Sets\n",
    "## Definition\n",
    " - Sets data structure in python represents the notio of mathematical sets.\n",
    " - Set contains items which are mutable, unordered and unindexed.\n",
    " - Curly brackets are used to write sets.\n",
    " - Items in sets are unique and the order of items is unknown.\n",
    " - Python sets are iterable with the help of for loop.\n",
    " - Items in sets can't accessed through indexes as we do in lists.\n",
    " - Sets are highly optimized in searching an item in the sets as compared with list data structure.\n",
    " - Sets searching based on a data structure known as a 'hash table'.\n",
    "### Why we use Sets\n",
    "    we use  Sets to perform mathamatical functions.\n",
    "### When we use Sets\n",
    "    when we want to store perform mathematical set operations like union, intersection, symmetric difference etc.\n",
    "### Where we use Sets\n",
    "     Sets can be used where we have to deal the mathamatical operations on data like union, intersection, symmetric difference\n",
    "    ## Applications\n",
    "There are many applications we are using in our daily life which are using sets data structure. Following are some common applications.\n",
    " - Perform standard math operations like union, intersection, difference and symmetric difference.\n",
    " - Provide uniqueness in list data structure by removing duplicate items.\n",
    " - Store primary keys or other fields from database tables which required uniqueness."
   ]
  },
  {
   "cell_type": "markdown",
   "id": "e4a01a39",
   "metadata": {},
   "source": [
    "## Task\n",
    " - Write a program to create the following three sets and display on output screen.\n",
    "                 {\"Mon\",\"Tue\",\"Wed\",\"Thu\",\"Fri\",\"Sat\",\"Sun\"}\n",
    "                 {\"Jan\",\"Feb\",\"Mar\"}\n",
    "                 {27,24,17}\n",
    "                                             \n",
    "## Code"
   ]
  },
  {
   "cell_type": "code",
   "execution_count": 14,
   "id": "bd178e42",
   "metadata": {},
   "outputs": [
    {
     "name": "stdout",
     "output_type": "stream",
     "text": [
      "Days:  {'Thu', 'Wed', 'Sat', 'Fri', 'Mon', 'Tue', 'Sun'}\n",
      "Months:  {'Mar', 'Jan', 'Feb'}\n",
      "Dates:  {24, 17, 27}\n"
     ]
    }
   ],
   "source": [
    "Days=set([\"Mon\",\"Tue\",\"Wed\",\"Thu\",\"Fri\",\"Sat\",\"Sun\"])\n",
    "Months={\"Jan\",\"Feb\",\"Mar\"}\n",
    "Dates={27,24,17}\n",
    "print(\"Days: \",Days)\n",
    "print(\"Months: \",Months)\n",
    "print(\"Dates: \",Dates)"
   ]
  },
  {
   "cell_type": "markdown",
   "id": "f2fffcb4",
   "metadata": {},
   "source": [
    "## Examples - Sets"
   ]
  },
  {
   "cell_type": "code",
   "execution_count": 15,
   "id": "08458038",
   "metadata": {},
   "outputs": [
    {
     "name": "stdout",
     "output_type": "stream",
     "text": [
      "Set A:  {1, 2, 3, 4, 5}\n",
      "Set B:  {4, 5, 6, 7, 8}\n",
      "Union of A and B:  {1, 2, 3, 4, 5, 6, 7, 8}\n"
     ]
    }
   ],
   "source": [
    "# Set union method\n",
    "# initialize A and B\n",
    "A = {1, 2, 3, 4, 5}\n",
    "B = {4, 5, 6, 7, 8}\n",
    "\n",
    "print(\"Set A: \",A)\n",
    "print(\"Set B: \",B)\n",
    "# use | operator\n",
    "# Output: {1, 2, 3, 4, 5, 6, 7, 8}\n",
    "print(\"Union of A and B: \",A | B)"
   ]
  },
  {
   "cell_type": "code",
   "execution_count": 92,
   "id": "7738a4ad",
   "metadata": {},
   "outputs": [
    {
     "name": "stdout",
     "output_type": "stream",
     "text": [
      "Set A:  {3, 4, 5, 6, 7}\n",
      "Set B:  {130, 8, 9, 430, 90}\n",
      "Symmetric_difference on A:  {130, 3, 4, 5, 6, 7, 8, 9, 90, 430}\n",
      "Symmetric_difference on B:  {130, 3, 4, 5, 6, 7, 8, 9, 90, 430}\n"
     ]
    }
   ],
   "source": [
    "# Symmetric difference of two sets\n",
    "# initialize A and B\n",
    "A = {3, 4, 5, 6, 7}\n",
    "B = {8, 9, 130, 90, 430}\n",
    "print(\"Set A: \",A)\n",
    "print(\"Set B: \",B)\n",
    "\n",
    "# use symmetric_difference function on A\n",
    "print(\"Symmetric_difference on A: \",A.symmetric_difference(B))\n",
    "\n",
    "# use symmetric_difference function on B\n",
    "print(\"Symmetric_difference on B: \",B.symmetric_difference(A))"
   ]
  },
  {
   "cell_type": "code",
   "execution_count": 93,
   "id": "4aac34db",
   "metadata": {},
   "outputs": [
    {
     "name": "stdout",
     "output_type": "stream",
     "text": [
      "{1, 2, 3, 4, 5, 6, 7}\n"
     ]
    }
   ],
   "source": [
    "set3={1,2,3,4}\n",
    "set4={4,5,6,7}\n",
    "set3.update(set4)\n",
    "print(set3)"
   ]
  },
  {
   "cell_type": "markdown",
   "id": "08b5a678",
   "metadata": {},
   "source": [
    "# 3 Comparison Operator\n",
    "- These are used to compare values (string or numbers) and return true/false according to situation.\n",
    "\n",
    "### Why we use Comparison Operator\n",
    "    we use comparison operators to compare values.\n",
    "### When we use Comparison Operator\n",
    "    when we want to make comparison between two or more variables.\n",
    "### where we use Comparison Operator\n",
    "    Comparison Operator can be used where we compare variables with each other or other variables.\n",
    "# Examples of Comparison Operator"
   ]
  },
  {
   "cell_type": "code",
   "execution_count": 16,
   "id": "fa42676d",
   "metadata": {},
   "outputs": [
    {
     "data": {
      "text/plain": [
       "True"
      ]
     },
     "execution_count": 16,
     "metadata": {},
     "output_type": "execute_result"
    }
   ],
   "source": [
    "2<6"
   ]
  },
  {
   "cell_type": "code",
   "execution_count": 17,
   "id": "10af713c",
   "metadata": {},
   "outputs": [
    {
     "data": {
      "text/plain": [
       "True"
      ]
     },
     "execution_count": 17,
     "metadata": {},
     "output_type": "execute_result"
    }
   ],
   "source": [
    "'Anam'!='Khurshid'"
   ]
  },
  {
   "cell_type": "code",
   "execution_count": 18,
   "id": "2c42787c",
   "metadata": {},
   "outputs": [
    {
     "data": {
      "text/plain": [
       "False"
      ]
     },
     "execution_count": 18,
     "metadata": {},
     "output_type": "execute_result"
    }
   ],
   "source": [
    "(1==1)and(2==4)"
   ]
  },
  {
   "cell_type": "code",
   "execution_count": 19,
   "id": "93f93b7b",
   "metadata": {},
   "outputs": [
    {
     "data": {
      "text/plain": [
       "True"
      ]
     },
     "execution_count": 19,
     "metadata": {},
     "output_type": "execute_result"
    }
   ],
   "source": [
    "a=5\n",
    "b=10\n",
    "c=10\n",
    "a<b"
   ]
  },
  {
   "cell_type": "code",
   "execution_count": 20,
   "id": "f092bb6e",
   "metadata": {},
   "outputs": [
    {
     "data": {
      "text/plain": [
       "False"
      ]
     },
     "execution_count": 20,
     "metadata": {},
     "output_type": "execute_result"
    }
   ],
   "source": [
    "a>b"
   ]
  },
  {
   "cell_type": "code",
   "execution_count": 21,
   "id": "979adeac",
   "metadata": {},
   "outputs": [
    {
     "data": {
      "text/plain": [
       "True"
      ]
     },
     "execution_count": 21,
     "metadata": {},
     "output_type": "execute_result"
    }
   ],
   "source": [
    "c==10"
   ]
  },
  {
   "cell_type": "code",
   "execution_count": 22,
   "id": "ca4decff",
   "metadata": {},
   "outputs": [
    {
     "data": {
      "text/plain": [
       "False"
      ]
     },
     "execution_count": 22,
     "metadata": {},
     "output_type": "execute_result"
    }
   ],
   "source": [
    "c>b"
   ]
  },
  {
   "cell_type": "code",
   "execution_count": 23,
   "id": "16b301dc",
   "metadata": {},
   "outputs": [
    {
     "data": {
      "text/plain": [
       "True"
      ]
     },
     "execution_count": 23,
     "metadata": {},
     "output_type": "execute_result"
    }
   ],
   "source": [
    "(a<b)and(b==c)"
   ]
  },
  {
   "cell_type": "code",
   "execution_count": 24,
   "id": "20d1b1bc",
   "metadata": {},
   "outputs": [
    {
     "data": {
      "text/plain": [
       "True"
      ]
     },
     "execution_count": 24,
     "metadata": {},
     "output_type": "execute_result"
    }
   ],
   "source": [
    "(a<b)or(b==c)and(a>b)"
   ]
  },
  {
   "cell_type": "code",
   "execution_count": 25,
   "id": "73939e8c",
   "metadata": {},
   "outputs": [
    {
     "data": {
      "text/plain": [
       "True"
      ]
     },
     "execution_count": 25,
     "metadata": {},
     "output_type": "execute_result"
    }
   ],
   "source": [
    "(a<b)or(b==c)and(a>b)"
   ]
  },
  {
   "cell_type": "markdown",
   "id": "1bc63405",
   "metadata": {},
   "source": [
    "# 4 If-else Statement\n",
    "- If-Else statments are used to execute a block of code depending on conditions. If block if condition is true otherwise else block. See following example:\n",
    "\n",
    "### Why we use If-else Statement\n",
    "    we use If-else Statement is use to make decision.\n",
    "### When we use If-else Statement\n",
    "    when we want to make decision at some point then we use if-else or if or if-else if statement.\n",
    "### Where we use If-else Statement\n",
    "    If-else Statement can be used where we want to make decision at some point then we use if-else statment. examples will describe the usage of if-else statement."
   ]
  },
  {
   "cell_type": "markdown",
   "id": "8777840f",
   "metadata": {},
   "source": [
    "## Task\n",
    " - Write a Program to take marks as input from the user and calculate grade using following grading policies.\n",
    "                       A+ = marks >= 95 && marks <= 100\n",
    "                       A  = marks >= 80 && marks < 95\n",
    "                       B  = marks >= 70 && marks < 80\n",
    "                       C  = marks >= 60 && marks < 70\n",
    "                       F  = marks < 60\n",
    "                       \n",
    "## Code"
   ]
  },
  {
   "cell_type": "code",
   "execution_count": 27,
   "id": "7301444d",
   "metadata": {},
   "outputs": [
    {
     "name": "stdout",
     "output_type": "stream",
     "text": [
      "Enter your marks: 84\n",
      "You got A grade\n"
     ]
    }
   ],
   "source": [
    "# initialize marks\n",
    "marks = int(input(\"Enter your marks: \"))\n",
    "\n",
    "if marks >= 95 and marks <= 100:\n",
    "    print(\"You got A+ grade\")\n",
    "elif marks >= 80 and marks < 95:\n",
    "    print(\"You got A grade\")\n",
    "elif marks >= 70 and marks < 80:\n",
    "    print(\"You got B grade\")\n",
    "elif marks >= 60 and marks < 70:\n",
    "    print(\"You got C grade\")\n",
    "elif marks < 60:\n",
    "    print(\"Fail!\")\n",
    "else:\n",
    "    print(\"Invalid marks, should be between 0 to 100...!\")"
   ]
  },
  {
   "cell_type": "markdown",
   "id": "768c010d",
   "metadata": {},
   "source": [
    "# Examples - If-else Statement"
   ]
  },
  {
   "cell_type": "code",
   "execution_count": 28,
   "id": "85481592",
   "metadata": {},
   "outputs": [
    {
     "name": "stdout",
     "output_type": "stream",
     "text": [
      "odd\n"
     ]
    }
   ],
   "source": [
    "a=10 \n",
    "b=20\n",
    "c=30\n",
    "if 9%2:\n",
    "    print(\"odd\")\n",
    "else:\n",
    "    print(\"even\")"
   ]
  },
  {
   "cell_type": "code",
   "execution_count": 91,
   "id": "af7bcfdf",
   "metadata": {},
   "outputs": [
    {
     "name": "stdout",
     "output_type": "stream",
     "text": [
      "b is greaater\n"
     ]
    }
   ],
   "source": [
    "if a<b:\n",
    "    print(\"b is greaater\")\n",
    "else:\n",
    "    print('a is greater')\n",
    "    "
   ]
  },
  {
   "cell_type": "code",
   "execution_count": 30,
   "id": "05e1f718",
   "metadata": {},
   "outputs": [
    {
     "name": "stdout",
     "output_type": "stream",
     "text": [
      "c is greator\n"
     ]
    }
   ],
   "source": [
    "if (a>b and a>c):\n",
    "    print('a is greator')\n",
    "elif b>a and b>c:\n",
    "    print('b is greator')\n",
    "elif c>a and c>b:\n",
    "    print('c is greator')"
   ]
  },
  {
   "cell_type": "markdown",
   "id": "468ad176",
   "metadata": {},
   "source": [
    "# 5 For and While Loop\n",
    "- Python has for and while loop for iteration, used when we want to perform a specific a task repeatedly.\n",
    "\n",
    "### Why we use For and While Loop\n",
    "    we use For and While Loop for iteration.\n",
    "### When we use For and While Loop\n",
    "    when we want to iterate some values. for loop is called counter control loop .\n",
    "### Where we use For and While Loop\n",
    "    For and While Loop can be used where we want iteration on some point. for loop is used where number of iterations are known in advance and while loop is used when not known in advance or to validate some condition.\n",
    "# Examples of For and While Loop"
   ]
  },
  {
   "cell_type": "code",
   "execution_count": 32,
   "id": "3496a074",
   "metadata": {},
   "outputs": [
    {
     "name": "stdout",
     "output_type": "stream",
     "text": [
      "360\n"
     ]
    }
   ],
   "source": [
    "#example of for loop\n",
    "\n",
    "fact = 3\n",
    "N = 5\n",
    "for i in range (1,N+1):\n",
    "    fact*=i\n",
    "print (fact)"
   ]
  },
  {
   "cell_type": "code",
   "execution_count": 34,
   "id": "9aa0230b",
   "metadata": {},
   "outputs": [
    {
     "name": "stdout",
     "output_type": "stream",
     "text": [
      "50\n"
     ]
    }
   ],
   "source": [
    "#example of while loop\n",
    "\n",
    "a = 0\n",
    "while a < 50:\n",
    "    a = a+1\n",
    "print(a)"
   ]
  },
  {
   "cell_type": "code",
   "execution_count": 35,
   "id": "15876137",
   "metadata": {},
   "outputs": [
    {
     "name": "stdout",
     "output_type": "stream",
     "text": [
      "0\n",
      "1\n",
      "2\n",
      "3\n",
      "4\n",
      "5\n",
      "6\n",
      "7\n",
      "8\n",
      "9\n"
     ]
    }
   ],
   "source": [
    "for i in range(10):\n",
    "    print(i)"
   ]
  },
  {
   "cell_type": "code",
   "execution_count": 37,
   "id": "8d0074c2",
   "metadata": {},
   "outputs": [
    {
     "name": "stdout",
     "output_type": "stream",
     "text": [
      "240\n"
     ]
    }
   ],
   "source": [
    "multiplicands=[1,2,3,4,5]\n",
    "product=2\n",
    "for mul in multiplicands:\n",
    "    product=product*mul\n",
    "    \n",
    "print(product)"
   ]
  },
  {
   "cell_type": "code",
   "execution_count": 38,
   "id": "055dd3d0",
   "metadata": {},
   "outputs": [
    {
     "name": "stdout",
     "output_type": "stream",
     "text": [
      "0 1 2 3 4 5 6 7 8 9 "
     ]
    }
   ],
   "source": [
    "i=0\n",
    "while i<10:\n",
    "    print(i,end=' ')\n",
    "    i+=1\n",
    "    "
   ]
  },
  {
   "cell_type": "code",
   "execution_count": 39,
   "id": "78978beb",
   "metadata": {},
   "outputs": [
    {
     "data": {
      "text/plain": [
       "[0, 1, 32, 243, 1024, 3125, 7776, 16807, 32768, 59049]"
      ]
     },
     "execution_count": 39,
     "metadata": {},
     "output_type": "execute_result"
    }
   ],
   "source": [
    "square=[n**5 for n in range(10)]\n",
    "square"
   ]
  },
  {
   "cell_type": "markdown",
   "id": "81bc15d9",
   "metadata": {},
   "source": [
    "# 6. Functions\n",
    "## Definition\n",
    " - The block of code which only run when we call it, is known as function or method.\n",
    " - We can pass the data to a function, this term known as parameters.\n",
    " - A function may return a value or may not be.\n",
    " - Parameters to the function are using two methods, one is 'pass by value' and the second is 'pass by reference'.\n",
    " - In python we use 'def' keyword to create a function.\n",
    " - We can call a function by its name followed by required list of parameters.\n",
    " - We can pass as many arguments as we want, after the function name, inside the parenthesis, just separated by comma.\n",
    " ### Why we use Functions\n",
    "    we use functions to perform specific task that is defined in the defination of function.\n",
    "### When we use Functions\n",
    "    when we want to perform specific task and want to make it resuable for the further use then we used function .\n",
    "### where we use Functions\n",
    "    Functions can be used where we don't want to write the same code again and again. funcions are reuseable and make code clear and clean we call call a fuction by simple on line code and it will perform its functionality.\n",
    "    ## Applications\n",
    "There are many applications we are using in our daily life which are using functions. Following are some common applications.\n",
    " - Functions are not specific to some applications.\n",
    " - Approximately all applications in modern age use functions to increase understanding and reuseability of code.\n",
    " - Android applications\n",
    " - Java applications\n",
    " - Web based applications"
   ]
  },
  {
   "cell_type": "markdown",
   "id": "c940fc06",
   "metadata": {},
   "source": [
    "## Task\n",
    " - Write a program to take two numbers from the user as input and calculate sum of these numbers in a function named 'sum()'.\n",
    "                                             \n",
    "## Code"
   ]
  },
  {
   "cell_type": "code",
   "execution_count": 40,
   "id": "96797ba3",
   "metadata": {},
   "outputs": [
    {
     "name": "stdout",
     "output_type": "stream",
     "text": [
      "Enter first number: 24\n",
      "Enter second number: 97\n",
      "Sum of two numbers:  121\n"
     ]
    }
   ],
   "source": [
    "def sum(num1, num2): # num1 and num2 are called parameters\n",
    "    print(\"Sum of two numbers: \",num1+num2)\n",
    "    \n",
    "if __name__=='__main__':\n",
    "    inp1 = int(input(\"Enter first number: \"))\n",
    "    inp2 = int(input(\"Enter second number: \"))\n",
    "    sum(inp1, inp2) # here inp1 and inp2 are arguments"
   ]
  },
  {
   "cell_type": "markdown",
   "id": "dc64b2d4",
   "metadata": {},
   "source": [
    "## Examples - Functions"
   ]
  },
  {
   "cell_type": "code",
   "execution_count": 42,
   "id": "2f5fa9a3",
   "metadata": {},
   "outputs": [
    {
     "name": "stdout",
     "output_type": "stream",
     "text": [
      "First call to user defined function!\n"
     ]
    }
   ],
   "source": [
    "# Function definition is here\n",
    "\n",
    "def printme( str ):\n",
    "#This prints a passed string into this function\n",
    "    print (str)\n",
    "    return;\n",
    "# Now you can call printme function\n",
    "printme(\"First call to user defined function!\")"
   ]
  },
  {
   "cell_type": "code",
   "execution_count": 45,
   "id": "61faab61",
   "metadata": {},
   "outputs": [
    {
     "name": "stdout",
     "output_type": "stream",
     "text": [
      "Hello ATML\n",
      "Hello Python\n",
      "Hello world\n"
     ]
    }
   ],
   "source": [
    "def greet(who=\"ATML\"):\n",
    "    print(\"Hello\",who)\n",
    "greet()  \n",
    "greet(who=\"Python\")\n",
    "greet(\"world\")"
   ]
  },
  {
   "cell_type": "code",
   "execution_count": 47,
   "id": "55061b27",
   "metadata": {},
   "outputs": [],
   "source": [
    "def f(n):\n",
    "    return n*3\n",
    "x=15.8"
   ]
  },
  {
   "cell_type": "code",
   "execution_count": 48,
   "id": "ec2f52b9",
   "metadata": {},
   "outputs": [
    {
     "name": "stdout",
     "output_type": "stream",
     "text": [
      "15.8\n",
      "<function f at 0x0000011852B32790>\n"
     ]
    }
   ],
   "source": [
    "print(x)\n",
    "print(f)"
   ]
  },
  {
   "cell_type": "code",
   "execution_count": 50,
   "id": "613e72ab",
   "metadata": {},
   "outputs": [
    {
     "name": "stdout",
     "output_type": "stream",
     "text": [
      "<class 'float'>\n",
      "<class 'function'>\n"
     ]
    }
   ],
   "source": [
    "print(\n",
    "    type(x),\n",
    "    type(f), sep='\\n'\n",
    ")"
   ]
  },
  {
   "cell_type": "code",
   "execution_count": 53,
   "id": "f8a51979",
   "metadata": {},
   "outputs": [
    {
     "name": "stdout",
     "output_type": "stream",
     "text": [
      "which is biggest?\n",
      "166\n",
      "14\n"
     ]
    }
   ],
   "source": [
    "def mod_5(x):\n",
    "    return x%5\n",
    "print(\n",
    "    \"which is biggest?\",\n",
    "    max(166,98,14),\n",
    "    max(166,98,14,key=mod_5),\n",
    "    sep=\"\\n\",\n",
    "\n",
    "\n",
    ")"
   ]
  },
  {
   "cell_type": "markdown",
   "id": "782d0d41",
   "metadata": {},
   "source": [
    "# 7. Lambda Functions\n",
    "## Definition\n",
    " - We can write functions in python using 'def' keyword, define function headers, bodies and docstrings.\n",
    " - Fortunately Python also provide a quicker way to write your own functions, these are called lambda functions.\n",
    " - We said lambda because 'lambda' keyword used to define lambda functions.\n",
    " - We use lambda functions where function definition is simple enough that it could easily converted to lambda function.\n",
    " - Lambda functions in python may have many arguments but can have only one expression to solve.\n",
    " - Syntax of lambda function is \"lambda arguments: expression\"\n",
    "### Why we use Lambda Functions\n",
    "    we use lambda functions to write the function in one line\n",
    "### When we use Lambda Functions\n",
    "    when we want to perform specific task and define a function in one line then we use lambda function .\n",
    "### Where we use Lambda Functions\n",
    "    Lambda Functions can be used where a function defination is small and can be written in one line\n",
    "## Applications\n",
    "There are many applications we are using in our daily life which are using functions. Following are some common applications.\n",
    " - Functions are not specific to some applications.\n",
    " - Approximately all applications in modern age use functions to increase understanding and reuseability of code.\n",
    " - Android applications\n",
    " - Java applications\n",
    " - Web based applications"
   ]
  },
  {
   "cell_type": "markdown",
   "id": "93678c16",
   "metadata": {},
   "source": [
    "## Task\n",
    " - Write a program to declare a lambda function that adds 15 to the number passed in as an argument, and print the result.\n",
    "                                             \n",
    "## Code"
   ]
  },
  {
   "cell_type": "code",
   "execution_count": 57,
   "id": "34ac9c53",
   "metadata": {},
   "outputs": [
    {
     "name": "stdout",
     "output_type": "stream",
     "text": [
      "Number passed to function:  7\n",
      "Result:  22\n"
     ]
    }
   ],
   "source": [
    "x = lambda a : a + 15\n",
    "\n",
    "num = 7 #number to pass to the lambda function 'x'\n",
    "print(\"Number passed to function: \",num)\n",
    "print(\"Result: \",x(num))"
   ]
  },
  {
   "cell_type": "markdown",
   "id": "8ce93540",
   "metadata": {},
   "source": [
    "## Examples- Lambda Functions"
   ]
  },
  {
   "cell_type": "code",
   "execution_count": 58,
   "id": "28e8db28",
   "metadata": {},
   "outputs": [
    {
     "name": "stdout",
     "output_type": "stream",
     "text": [
      "729\n"
     ]
    }
   ],
   "source": [
    "#Normal function\n",
    "def f (x):\n",
    "    return x**6\n",
    "print (f(3))"
   ]
  },
  {
   "cell_type": "code",
   "execution_count": 59,
   "id": "e79e3996",
   "metadata": {},
   "outputs": [
    {
     "data": {
      "text/plain": [
       "70"
      ]
     },
     "execution_count": 59,
     "metadata": {},
     "output_type": "execute_result"
    }
   ],
   "source": [
    "#Lambda Function\n",
    "#lambda expressions\n",
    "times3 = lambda var:var*7\n",
    "times3(10)"
   ]
  },
  {
   "cell_type": "code",
   "execution_count": 60,
   "id": "53f4c665",
   "metadata": {},
   "outputs": [
    {
     "name": "stdout",
     "output_type": "stream",
     "text": [
      "2\n"
     ]
    }
   ],
   "source": [
    "mod_5= lambda x:x%8\n",
    "print(mod_5(122))"
   ]
  },
  {
   "cell_type": "code",
   "execution_count": 61,
   "id": "312c82c5",
   "metadata": {},
   "outputs": [
    {
     "name": "stdout",
     "output_type": "stream",
     "text": [
      "56\n"
     ]
    }
   ],
   "source": [
    "#on the arguments\n",
    "arg= lambda x:54+x\n",
    "print(arg(2))"
   ]
  },
  {
   "cell_type": "code",
   "execution_count": 62,
   "id": "151b6013",
   "metadata": {},
   "outputs": [
    {
     "name": "stdout",
     "output_type": "stream",
     "text": [
      "longest name is Khurshid\n"
     ]
    }
   ],
   "source": [
    "names=['Anam','Khurshid']\n",
    "print('longest name is', max(names, key=lambda name:len(name)))"
   ]
  },
  {
   "cell_type": "markdown",
   "id": "b09b0195",
   "metadata": {},
   "source": [
    "# 7.1 Map()\n",
    " - Map() function comes as built in function in python language.\n",
    " - Map() function used to call the specific funtion for each item of an iterable like lists, strings, tuples and dictionaries.\n",
    " - It return a list of reults equal to number of items in iterables.\n",
    " - Syntax ---> \"map(specified_function, iterable)\""
   ]
  },
  {
   "cell_type": "markdown",
   "id": "9c5d08a6",
   "metadata": {},
   "source": [
    "## Task\n",
    " - Write a Program to calculate square of each list item using map() function.\n",
    "## Code"
   ]
  },
  {
   "cell_type": "code",
   "execution_count": 65,
   "id": "fcfd0cac",
   "metadata": {},
   "outputs": [
    {
     "name": "stdout",
     "output_type": "stream",
     "text": [
      "Numbers List:  [8, 6, 4, 2]\n",
      "Square calculated:  [64, 36, 16, 4]\n"
     ]
    }
   ],
   "source": [
    "# it will calculate square\n",
    "def square(x):\n",
    "    return x*x\n",
    "\n",
    "numbers_list = [8, 6, 4, 2]\n",
    "sqrt_list = map(square, numbers_list)\n",
    "\n",
    "print(\"Numbers List: \",numbers_list)\n",
    "print(\"Square calculated: \", [item for item in sqrt_list])\n",
    "# print(\"Square calculated: \")\n",
    "# for i in sqrt_list:\n",
    "#     print(i)"
   ]
  },
  {
   "cell_type": "markdown",
   "id": "26dc7ea1",
   "metadata": {},
   "source": [
    "## Example - Maps"
   ]
  },
  {
   "cell_type": "code",
   "execution_count": 66,
   "id": "754cfe70",
   "metadata": {},
   "outputs": [
    {
     "name": "stdout",
     "output_type": "stream",
     "text": [
      "['Be', 'Happy,Keep', 'Happy']\n"
     ]
    },
    {
     "data": {
      "text/plain": [
       "[2, 10, 5]"
      ]
     },
     "execution_count": 66,
     "metadata": {},
     "output_type": "execute_result"
    }
   ],
   "source": [
    "sentence = 'Be Happy,Keep Happy'\n",
    "\n",
    "words = sentence.split()\n",
    "print (words)\n",
    "lengths = map(lambda word: len(word), words)\n",
    "list(lengths)"
   ]
  },
  {
   "cell_type": "code",
   "execution_count": 89,
   "id": "0064a9e3",
   "metadata": {},
   "outputs": [
    {
     "name": "stdout",
     "output_type": "stream",
     "text": [
      "<map object at 0x0000011852B2C760>\n"
     ]
    },
    {
     "data": {
      "text/plain": [
       "[36, 49, 64, 81]"
      ]
     },
     "execution_count": 89,
     "metadata": {},
     "output_type": "execute_result"
    }
   ],
   "source": [
    "def square(x):\n",
    "    return x*x\n",
    "num=(6,7,8,9)\n",
    "r=map(square,num)\n",
    "print(r)\n",
    "list(r)"
   ]
  },
  {
   "cell_type": "code",
   "execution_count": 90,
   "id": "78596d35",
   "metadata": {},
   "outputs": [
    {
     "data": {
      "text/plain": [
       "[216, 343, 512, 729]"
      ]
     },
     "execution_count": 90,
     "metadata": {},
     "output_type": "execute_result"
    }
   ],
   "source": [
    "c=map(lambda y:y*y*y, num)\n",
    "list(c)"
   ]
  },
  {
   "cell_type": "markdown",
   "id": "02d52b42",
   "metadata": {},
   "source": [
    "# 7.2 Filter()\n",
    " - We use filter() method to construct an iterator from elements of an iterable for which a function returns true.\n",
    " - In simple words we can say that filter() method filters the given iterable with the help of a function that tests each element of iterable to be true or not.\n",
    " - Syntax -----> \"filter(function, iterable)\""
   ]
  },
  {
   "cell_type": "markdown",
   "id": "6eb5fa07",
   "metadata": {},
   "source": [
    "## Task\n",
    " - Write a Program to filter vowels from the following list of characters using filter() method of python.\n",
    "               ['A', 'L', 'L', 'A', 'H', 'I', 'S','O', 'N', 'E']\n",
    "             \n",
    "## Code"
   ]
  },
  {
   "cell_type": "code",
   "execution_count": 68,
   "id": "355fd9bd",
   "metadata": {},
   "outputs": [
    {
     "name": "stdout",
     "output_type": "stream",
     "text": [
      "The given vowels are:  ['A', 'L', 'L', 'A', 'H', 'I', 'S', 'O', 'N', 'E']\n",
      "The filtered vowels are:  ['A', 'A', 'I', 'O', 'E']\n"
     ]
    }
   ],
   "source": [
    "# list of letters\n",
    "letters =  ['A', 'L', 'L', 'A', 'H', 'I', 'S','O', 'N', 'E']\n",
    "\n",
    "# function that filters vowels\n",
    "def filterVowels(letter):\n",
    "    vowels = ['A', 'E', 'I', 'O', 'U']\n",
    "\n",
    "    if(letter in vowels):\n",
    "        return True\n",
    "    else:\n",
    "        return False\n",
    "\n",
    "filteredVowels = filter(filterVowels, letters)\n",
    "\n",
    "print('The given vowels are: ', [vowel for vowel in letters])\n",
    "print('The filtered vowels are: ', [vowel for vowel in filteredVowels])"
   ]
  },
  {
   "cell_type": "markdown",
   "id": "14e8b811",
   "metadata": {},
   "source": [
    "# Examples - Filters"
   ]
  },
  {
   "cell_type": "code",
   "execution_count": 72,
   "id": "a58848d1",
   "metadata": {},
   "outputs": [
    {
     "data": {
      "text/plain": [
       "['Manha']"
      ]
     },
     "execution_count": 72,
     "metadata": {},
     "output_type": "execute_result"
    }
   ],
   "source": [
    "names=['Amal', 'Anam','Manha','Zainab','Hina']\n",
    "fil=filter(lambda s:s.startswith('M'),names)\n",
    "list(fil)"
   ]
  },
  {
   "cell_type": "code",
   "execution_count": 73,
   "id": "7a5521ae",
   "metadata": {},
   "outputs": [
    {
     "data": {
      "text/plain": [
       "['Amal', 'Anam']"
      ]
     },
     "execution_count": 73,
     "metadata": {},
     "output_type": "execute_result"
    }
   ],
   "source": [
    "fil2=filter(lambda f:f.startswith('A'),names)\n",
    "list(fil2)"
   ]
  },
  {
   "cell_type": "code",
   "execution_count": 84,
   "id": "551be539",
   "metadata": {},
   "outputs": [
    {
     "name": "stdout",
     "output_type": "stream",
     "text": [
      "<filter object at 0x0000011852B41850>\n"
     ]
    },
    {
     "data": {
      "text/plain": [
       "[1, 1, 3, 5, 13, 21]"
      ]
     },
     "execution_count": 84,
     "metadata": {},
     "output_type": "execute_result"
    }
   ],
   "source": [
    "fibnocci=[0,1,1,2,3,5,8,13,21,34]\n",
    "r1=filter(lambda x:x%2,fibnocci)\n",
    "print(r1)\n",
    "list(r1)"
   ]
  },
  {
   "cell_type": "code",
   "execution_count": 86,
   "id": "bb055ed6",
   "metadata": {},
   "outputs": [
    {
     "data": {
      "text/plain": [
       "[0, 3, 21]"
      ]
     },
     "execution_count": 86,
     "metadata": {},
     "output_type": "execute_result"
    }
   ],
   "source": [
    "r2=filter(lambda x:x%3==0,fibnocci)\n",
    "list(r2)"
   ]
  },
  {
   "cell_type": "markdown",
   "id": "e9552780",
   "metadata": {},
   "source": [
    "# 8. File I/O\n",
    " - In this section we learn about input and output.\n",
    " - Specially we learn about opening a file, reading a file, updating a file, overwriting a file and closing a file.\n",
    " - Files are the locations with specific names on disk to store related data and information.\n",
    " - Data in files may be of different types.\n",
    " - Files are used to store the data permanently.\n",
    " - We need to open file first and then we can read data from it, finally we need to close file at the end."
   ]
  },
  {
   "cell_type": "markdown",
   "id": "5a4609a7",
   "metadata": {},
   "source": [
    "# Reading input from keyboard\n",
    "- For reading input from keyboard, raw_input() method is used.\n",
    "- It reads only one line from standard input and returns it as a string.\n",
    "\n",
    "### Why we use  File I/O\n",
    "    we use  File I/O to read and write data from and to file or to take input from the user. \n",
    "### When we use  File I/O\n",
    "    when we want to read some data of write some data in file then we use these funtion.\n",
    "### Where we use  File I/O\n",
    "     File I/O can be used where we have to read data from file it is not possible or difficult in some cases to read all data from the user of or code then there is need to read data from file and store it on file for the future use. for all these purposes we use file I/O\n",
    "# Examples of  File I/O"
   ]
  },
  {
   "cell_type": "code",
   "execution_count": 1,
   "id": "14d79d08",
   "metadata": {},
   "outputs": [
    {
     "name": "stdout",
     "output_type": "stream",
     "text": [
      "enter your nameAnam Khurshid\n",
      "Anam Khurshid\n"
     ]
    }
   ],
   "source": [
    "# reading data from the user\n",
    "name=input('enter your name')\n",
    "print(name)"
   ]
  },
  {
   "cell_type": "code",
   "execution_count": 2,
   "id": "8d73c451",
   "metadata": {},
   "outputs": [
    {
     "name": "stdout",
     "output_type": "stream",
     "text": [
      "enter your father name=Khurshid Ahmad\n",
      "Khurshid Ahmad\n"
     ]
    }
   ],
   "source": [
    "fname=input('enter your father name=')\n",
    "print(fname)"
   ]
  },
  {
   "cell_type": "code",
   "execution_count": 3,
   "id": "c50b7877",
   "metadata": {},
   "outputs": [
    {
     "name": "stdout",
     "output_type": "stream",
     "text": [
      "enter your nationalityPakistan\n",
      "enter your age23\n",
      "your age is 23\n",
      "Pakistan\n"
     ]
    }
   ],
   "source": [
    "nationality=input('enter your nationality')\n",
    "age=input('enter your age')\n",
    "print('your age is',age)\n",
    "print(nationality)"
   ]
  },
  {
   "cell_type": "markdown",
   "id": "f2d7b10d",
   "metadata": {},
   "source": [
    "# I/O from or to Text File\n",
    "- In this scenario, we'll read and write to a text file.\n",
    "    - r opens a file in read only mode.\n",
    "    - r+ opens a file read and write mode.\n",
    "    - w opens a file in write mode only.\n",
    "    - a opens a file in append mode\n",
    "    - a+ opens a file in append and read mode."
   ]
  },
  {
   "cell_type": "code",
   "execution_count": 22,
   "id": "36fcec5c",
   "metadata": {},
   "outputs": [],
   "source": [
    "file=open('AnamKhurshid.txt','a+')\n",
    "file.write('My father name is Khurshid')\n",
    "file.close()"
   ]
  },
  {
   "cell_type": "code",
   "execution_count": 23,
   "id": "8ecd5824",
   "metadata": {},
   "outputs": [
    {
     "name": "stdout",
     "output_type": "stream",
     "text": [
      "My father name is Khurshid\n"
     ]
    }
   ],
   "source": [
    "file=open('AnamKhurshid.txt','r')\n",
    "f=file.read()\n",
    "print(f)\n",
    "file.close() "
   ]
  },
  {
   "cell_type": "markdown",
   "id": "265bbd1f",
   "metadata": {},
   "source": [
    "# File Position\n",
    "- tell() method tells the currenct position within the file.\n",
    "- seek() method changes the current file location."
   ]
  },
  {
   "cell_type": "code",
   "execution_count": 24,
   "id": "c1ebe7a3",
   "metadata": {},
   "outputs": [
    {
     "name": "stdout",
     "output_type": "stream",
     "text": [
      "read string is: \n",
      " My father name is Khurshid\n",
      "postion in file is 26\n"
     ]
    }
   ],
   "source": [
    "file=open('AnamKhurshid.txt','r+')\n",
    "f=file.read()\n",
    "print('read string is: \\n',f)\n",
    "\n",
    "# To know the position in file \n",
    "position=file.tell()\n",
    "print('postion in file is',position)"
   ]
  },
  {
   "cell_type": "code",
   "execution_count": 25,
   "id": "af001757",
   "metadata": {},
   "outputs": [
    {
     "name": "stdout",
     "output_type": "stream",
     "text": [
      "string is My father \n"
     ]
    }
   ],
   "source": [
    "# to change the location \n",
    "position=file.seek(0,0)# Reposition pointer at the beginning once again\n",
    "f=file.read(10)\n",
    "print('string is',f)"
   ]
  },
  {
   "cell_type": "markdown",
   "id": "34d7dd67",
   "metadata": {},
   "source": [
    "## Rename a file"
   ]
  },
  {
   "cell_type": "code",
   "execution_count": null,
   "id": "cc1b9150",
   "metadata": {},
   "outputs": [],
   "source": [
    "import os\n",
    "os.rename('AnamKhurshid.txt','Anam_Khurshid.txt')"
   ]
  },
  {
   "cell_type": "code",
   "execution_count": null,
   "id": "9321a180",
   "metadata": {},
   "outputs": [],
   "source": [
    "# remove a file\n",
    "os.remove('A.txt')"
   ]
  },
  {
   "cell_type": "markdown",
   "id": "14119a5d",
   "metadata": {},
   "source": [
    "# 9. Pandas Introduction\n",
    " - To analyze data in python there is an open source library available, known as Pandas.\n",
    " - It takes data from different sources like CSV files or from SQL database and creates an object with columns and rows.\n",
    " - We called this object as a dataframe.\n",
    " - People mostly import pandas library in python  with the alias pd.\n",
    " - Pandas library built on the top of Numpy pythonic library.\n",
    " - It also has built-in visualization features.\n",
    " - It calculate statistics and answer questions about the data, like:\n",
    "     1. What's the average, median, max, or min of each column?\n",
    "     2. Does column A correlate with column B?\n",
    "     3. It tells us that how the distribution of data looke like in some column C."
   ]
  },
  {
   "cell_type": "markdown",
   "id": "31b6a285",
   "metadata": {},
   "source": [
    "# 10. Series\n",
    "- A series is very similar to NumPy array.\n",
    "- Series is 1-D array labeled array capable of holding any type of data.\n",
    "- The difference between the NumPy array from a Series, is that a Series can have axis labels, meaning it can be indexed by a    label, instead of just a number location\n",
    "- The axis labels are collectively referred to as the index.\n",
    "- Following function is used to create a series:\n",
    " s= pd.Series(data,index = index)\n",
    "- In above function, data can be many different things:\n",
    "    - A python dict\n",
    "    - An ndarray\n",
    "    - A scalar value (For exmple: 5)\n",
    "- The passed index is a list of axis labels. So, this seperates into a few cases depending on what data is:\n",
    "\n",
    "\n",
    "## 10.1 From ndarray\n",
    "- If data is an ndarray, index must be the same length as data.\n",
    "- If no index is passed, one will be created having values [0, ..., len(data) - 1]."
   ]
  },
  {
   "cell_type": "markdown",
   "id": "46fdf23d",
   "metadata": {},
   "source": [
    "## Task\n",
    " - Write a Program to initialize a numpy array and then convert this array to pandas series with default indexes and also create indexes for data entered by the user.\n",
    " \n",
    "## Code"
   ]
  },
  {
   "cell_type": "code",
   "execution_count": 28,
   "id": "2690ab54",
   "metadata": {},
   "outputs": [
    {
     "name": "stdout",
     "output_type": "stream",
     "text": [
      "0    A\n",
      "1    L\n",
      "2    L\n",
      "3    A\n",
      "4    H\n",
      "dtype: object\n"
     ]
    }
   ],
   "source": [
    "# importing Pandas & numpy \n",
    "import pandas as pd \n",
    "import numpy as np \n",
    "  \n",
    "# numpy array \n",
    "data = np.array(['A', 'L', 'L', 'A', 'H']) \n",
    "  \n",
    "# creating series \n",
    "s = pd.Series(data) \n",
    "print(s)"
   ]
  },
  {
   "cell_type": "markdown",
   "id": "d79880a8",
   "metadata": {},
   "source": [
    "# Examples - ndarray"
   ]
  },
  {
   "cell_type": "code",
   "execution_count": 31,
   "id": "18caf465",
   "metadata": {},
   "outputs": [
    {
     "data": {
      "text/plain": [
       "a   -0.728957\n",
       "b    0.147104\n",
       "c   -1.242295\n",
       "d    0.030922\n",
       "e    0.931681\n",
       "f   -0.155673\n",
       "g   -0.124641\n",
       "dtype: float64"
      ]
     },
     "execution_count": 31,
     "metadata": {},
     "output_type": "execute_result"
    }
   ],
   "source": [
    "import pandas as pd\n",
    "import numpy as np\n",
    "import matplotlib.pyplot as plt\n",
    "\"\"\"following a fucntion is called from panas to create a series.\n",
    "data would be 5 random values and indexes are assigned a-e\"\"\"\n",
    "\n",
    "s=pd.Series(np.random.randn(7),index=['a','b','c','d','e','f','g'])\n",
    "s"
   ]
  },
  {
   "cell_type": "code",
   "execution_count": 32,
   "id": "3f170289",
   "metadata": {},
   "outputs": [
    {
     "data": {
      "text/plain": [
       "Index(['a', 'b', 'c', 'd', 'e', 'f', 'g'], dtype='object')"
      ]
     },
     "execution_count": 32,
     "metadata": {},
     "output_type": "execute_result"
    }
   ],
   "source": [
    "s.index"
   ]
  },
  {
   "cell_type": "code",
   "execution_count": 33,
   "id": "ebc76631",
   "metadata": {},
   "outputs": [
    {
     "data": {
      "text/plain": [
       "0   -0.120194\n",
       "1   -0.938180\n",
       "2    0.056691\n",
       "3   -0.714982\n",
       "4   -0.202892\n",
       "dtype: float64"
      ]
     },
     "execution_count": 33,
     "metadata": {},
     "output_type": "execute_result"
    }
   ],
   "source": [
    "#if you dont want to assign indexes just write in simple way \n",
    "s3=pd.Series(np.random.randn(5))\n",
    "s3"
   ]
  },
  {
   "cell_type": "markdown",
   "id": "4e3c9084",
   "metadata": {},
   "source": [
    "# 10.2 From Dictionary\n",
    " - We can also convert python dictionary to pandas series data type.\n",
    " - The Series() method of pandas series used with/without index parameter for conversion.\n",
    " - In this conversion dictionary keys are used as indexes in pandas series.\n",
    " - Following examples will demonstrate the concept more practically."
   ]
  },
  {
   "cell_type": "code",
   "execution_count": 34,
   "id": "acda3415",
   "metadata": {},
   "outputs": [
    {
     "data": {
      "text/plain": [
       "A    1\n",
       "B    2\n",
       "C    3\n",
       "dtype: int64"
      ]
     },
     "execution_count": 34,
     "metadata": {},
     "output_type": "execute_result"
    }
   ],
   "source": [
    "d={'A':1,'B':2,'C':3}\n",
    "pd.Series(d)"
   ]
  },
  {
   "cell_type": "code",
   "execution_count": 35,
   "id": "27f5d347",
   "metadata": {},
   "outputs": [
    {
     "data": {
      "text/plain": [
       "name            Anam\n",
       "fname       Khurshid\n",
       "age               23\n",
       "uni      Comsats Lhr\n",
       "dtype: object"
      ]
     },
     "execution_count": 35,
     "metadata": {},
     "output_type": "execute_result"
    }
   ],
   "source": [
    "d3={'name':'Anam','fname':'Khurshid','age':23,'uni':'Comsats Lhr'}\n",
    "pd.Series(d3)"
   ]
  },
  {
   "cell_type": "code",
   "execution_count": 37,
   "id": "ec4cd286",
   "metadata": {},
   "outputs": [
    {
     "data": {
      "text/plain": [
       "C    3.0\n",
       "N    NaN\n",
       "A    1.0\n",
       "T    NaN\n",
       "dtype: float64"
      ]
     },
     "execution_count": 37,
     "metadata": {},
     "output_type": "execute_result"
    }
   ],
   "source": [
    "# if we want to change the index by own will then we can do the following \n",
    "pd.Series(d,index=['C','N','A','T'])"
   ]
  },
  {
   "cell_type": "markdown",
   "id": "0ac4914f",
   "metadata": {},
   "source": [
    "# 10.3 From a Scalar Value\n",
    " - We can also convert a scalar value into pandas series.\n",
    " - We need to assign indexes to all values exists inthe scalar which need to be converted.\n",
    " - Following examples will explore more practically."
   ]
  },
  {
   "cell_type": "markdown",
   "id": "075242b6",
   "metadata": {},
   "source": [
    "## Task\n",
    " - Write a Program to initialize a variable with scalar value and convert it in pandas series data type.\n",
    "## Code"
   ]
  },
  {
   "cell_type": "code",
   "execution_count": 38,
   "id": "5d2a7b97",
   "metadata": {},
   "outputs": [
    {
     "name": "stdout",
     "output_type": "stream",
     "text": [
      "Generated series:  0    27.0\n",
      "1    27.0\n",
      "2    27.0\n",
      "3    27.0\n",
      "4    27.0\n",
      "5    27.0\n",
      "6    27.0\n",
      "7    27.0\n",
      "dtype: float64\n"
     ]
    }
   ],
   "source": [
    "'''\n",
    "following code demonstrate, hot to convert scalar value to pandas series.\n",
    "In this example scalar type value is given as data, it will be repeated\n",
    "to the length of indexes.\n",
    "'''\n",
    "import pandas as pd\n",
    "scalar_var = 27.0\n",
    "series = pd.Series(scalar_var, index=[0, 1, 2, 3, 4, 5, 6, 7])\n",
    "print(\"Generated series: \",series)"
   ]
  },
  {
   "cell_type": "markdown",
   "id": "ab465faf",
   "metadata": {},
   "source": [
    "# Examples - Scalar Value"
   ]
  },
  {
   "cell_type": "code",
   "execution_count": 39,
   "id": "899b7369",
   "metadata": {},
   "outputs": [
    {
     "data": {
      "text/plain": [
       "a    3.0\n",
       "b    3.0\n",
       "c    3.0\n",
       "dtype: float64"
      ]
     },
     "execution_count": 39,
     "metadata": {},
     "output_type": "execute_result"
    }
   ],
   "source": [
    "pd.Series(3.,index=['a','b','c'])"
   ]
  },
  {
   "cell_type": "code",
   "execution_count": 40,
   "id": "8660652f",
   "metadata": {},
   "outputs": [
    {
     "data": {
      "text/plain": [
       "a    10\n",
       "b    17\n",
       "c    22\n",
       "d    27\n",
       "e    30\n",
       "dtype: int64"
      ]
     },
     "execution_count": 40,
     "metadata": {},
     "output_type": "execute_result"
    }
   ],
   "source": [
    "pd.Series([10,17,22,27,30],index=['a','b','c','d','e'])"
   ]
  },
  {
   "cell_type": "code",
   "execution_count": 41,
   "id": "a2f80bb7",
   "metadata": {},
   "outputs": [
    {
     "data": {
      "text/plain": [
       "0     24\n",
       "1     27\n",
       "2      7\n",
       "3     42\n",
       "4    721\n",
       "dtype: int64"
      ]
     },
     "execution_count": 41,
     "metadata": {},
     "output_type": "execute_result"
    }
   ],
   "source": [
    "pd.Series([24,27,7,42,721])"
   ]
  },
  {
   "cell_type": "markdown",
   "id": "b9d57376",
   "metadata": {},
   "source": [
    "# 10.4 Series is ndarray-like\n",
    " - Pandas Series is very similar to numpy ndarray.\n",
    " - We can also pass series in mostly fuctions as parameters where we pass ndarray.\n",
    " - However, in some conditions, some minor differences occured.\n",
    " - Following examples explore the things more clearly."
   ]
  },
  {
   "cell_type": "markdown",
   "id": "27fb1628",
   "metadata": {},
   "source": [
    "## Task\n",
    " - Write a Program to show similarity between pandas series and numpy array.\n",
    "## Code"
   ]
  },
  {
   "cell_type": "code",
   "execution_count": 42,
   "id": "b2efe599",
   "metadata": {},
   "outputs": [
    {
     "name": "stdout",
     "output_type": "stream",
     "text": [
      "Initialized Series: \n",
      " 0     7\n",
      "1    24\n",
      "2    27\n",
      "3    68\n",
      "dtype: int64\n",
      "Access single item:\n",
      " 24\n",
      "Access items in range:\n",
      " 1    24\n",
      "2    27\n",
      "3    68\n",
      "dtype: int64\n",
      "Access only items greater than series median:\n",
      " 2    27\n",
      "3    68\n",
      "dtype: int64\n",
      "Series values with index:\n",
      " 3    68\n",
      "2    27\n",
      "1    24\n",
      "dtype: int64\n",
      "Value at given index:\n",
      " 68\n",
      "Access value using get() method:\n",
      " 68\n",
      "Return None using get() method, index not found:\n",
      " None\n"
     ]
    }
   ],
   "source": [
    "import pandas as pd\n",
    "series = pd.Series([7, 24, 27, 68])\n",
    "print(\"Initialized Series: \\n\",series)\n",
    "\n",
    "# access values just like ndarray\n",
    "print(\"Access single item:\\n\",series[1])\n",
    "\n",
    "# access values in ragne just like ndarray\n",
    "print(\"Access items in range:\\n\",series[1:5])\n",
    "\n",
    "# show only values of series which are greater than the median of series.\n",
    "print(\"Access only items greater than series median:\\n\",series[series > series.median()])\n",
    "\n",
    "# returning the values in series with indexes.\n",
    "print(\"Series values with index:\\n\",series[[3, 2, 1]])\n",
    "\n",
    "# return value of stored at given index\n",
    "indx = 3\n",
    "print(\"Value at given index:\\n\",series[3])\n",
    "\n",
    "# return value of stored at given index\n",
    "print(\"Access value using get() method:\\n\",series.get(3))\n",
    "\n",
    "# return None if no index found\n",
    "print(\"Return None using get() method, index not found:\\n\",series.get('3'))"
   ]
  },
  {
   "cell_type": "markdown",
   "id": "22fb9f4d",
   "metadata": {},
   "source": [
    "## 10.6 Vectorized operations and label alignment with Series\n",
    " - In data analysis process with ndarray, it is not necessary looping throug only with value by value\n",
    " - As we already discussed, Series is very similar to the ndarray.\n",
    " - In some functions which expects an ndaaray, we can also pass Series."
   ]
  },
  {
   "cell_type": "markdown",
   "id": "27274702",
   "metadata": {},
   "source": [
    "## Task\n",
    " - Write a Program to explore working with Pandas Series.\n",
    "## Code"
   ]
  },
  {
   "cell_type": "code",
   "execution_count": 44,
   "id": "c8037e94",
   "metadata": {},
   "outputs": [
    {
     "name": "stdout",
     "output_type": "stream",
     "text": [
      "Initialized Series:\n",
      " 0     34\n",
      "1    564\n",
      "2    245\n",
      "3    715\n",
      "4     43\n",
      "5    664\n",
      "dtype: int64\n"
     ]
    }
   ],
   "source": [
    "import pandas as pd\n",
    "series = pd.Series([34, 564, 245, 715, 43, 664])\n",
    "print(\"Initialized Series:\\n\",series)"
   ]
  },
  {
   "cell_type": "code",
   "execution_count": 48,
   "id": "e1a59f27",
   "metadata": {},
   "outputs": [
    {
     "name": "stdout",
     "output_type": "stream",
     "text": [
      "Adding values of series with their corresponding values:\n",
      " 0      68\n",
      "1    1128\n",
      "2     490\n",
      "3    1430\n",
      "4      86\n",
      "5    1328\n",
      "dtype: int64\n"
     ]
    }
   ],
   "source": [
    "# sum up values of a series.\n",
    "print(\"Adding values of series with their corresponding values:\\n\",series+series)"
   ]
  },
  {
   "cell_type": "code",
   "execution_count": 47,
   "id": "1ec1fba8",
   "metadata": {},
   "outputs": [
    {
     "name": "stdout",
     "output_type": "stream",
     "text": [
      "Multiply series values by some constant:\n",
      " 0      68\n",
      "1    1128\n",
      "2     490\n",
      "3    1430\n",
      "4      86\n",
      "5    1328\n",
      "dtype: int64\n"
     ]
    }
   ],
   "source": [
    "# multiply sereis values by some constant\n",
    "print(\"Multiply series values by some constant:\\n\",series*2)"
   ]
  },
  {
   "cell_type": "markdown",
   "id": "076ed17e",
   "metadata": {},
   "source": [
    "# 11. Data Frames\n",
    "## Definition\n",
    " - Data frame in python is a two dimensional data structure.\n",
    " - Data is stored in tabular format in data frames.\n",
    " - Some important features of data frames are.\n",
    "     1. Columns can be of different types in data frame.\n",
    "     2. Data frame size is mutable\n",
    "     3. We can perform arithmetic operations on rows and columns.\n",
    "     4. We can label axes (columns and rows)\n",
    " - Data frame Constructor and required parameters.\n",
    " - Constructor ----> pandas.DataFrame(data, index, columns, dtype, copy)\n",
    "     1. Data: In data parameter we can pass various forms like ndarray, series, map, lists, dict, constants and also other DataFrame.\n",
    "     2. Index: It's optional, by default np.arange(n).\n",
    "     3. Columns: It's also optional, used for columns labels, be default is np.arange(n)\n",
    "     4. dtype: Data type for each and every column.\n",
    "     5. copy: Used to copy data, by default it's False.\n",
    " - A pandas DataFrame can be created from lists, dictionaries, series, numpy ndarrays or even from another DataFrame.\n",
    " - Potentially heterogeneous tabular data.\n",
    " - Following examples will give you the basic idea of creating and using Data Frames in python.\n",
    " ## Applications\n",
    "There are many applications we are using in our daily life which are using DataFrames data structure. Following are some common applications.\n",
    " - DataFrames are used for storing data from relational databases.\n",
    " - Big Data\n",
    " - Natural Language Processing\n",
    " - Recommendations System\n",
    " - Stock Prediction\n",
    " - Analytics\n",
    " - Neuroscience\n",
    " - Useful records visualization.\n",
    " ## Suitable to use\n",
    " - Where we need extremely streamlined forms of data\n",
    " - When we need to done a job in a short period of time.\n",
    " - Suitable to use where we have large amount of data.\n",
    " - Provide data flexibility and customization.\n",
    " - Pure pythonic library."
   ]
  },
  {
   "cell_type": "markdown",
   "id": "3c349fcd",
   "metadata": {},
   "source": [
    "## Task\n",
    " - Write a Program to simply create an Empty DataFrame and display it on output screen.\n",
    " \n",
    "## Code"
   ]
  },
  {
   "cell_type": "code",
   "execution_count": 49,
   "id": "6e2dd25c",
   "metadata": {},
   "outputs": [
    {
     "name": "stdout",
     "output_type": "stream",
     "text": [
      "Empty Data Frame:  Empty DataFrame\n",
      "Columns: []\n",
      "Index: []\n"
     ]
    }
   ],
   "source": [
    "#import the pandas library and aliasing as pd\n",
    "import pandas as pd\n",
    "df = pd.DataFrame()\n",
    "print(\"Empty Data Frame: \",df)"
   ]
  },
  {
   "cell_type": "markdown",
   "id": "62a33f76",
   "metadata": {},
   "source": [
    "# Examples - Data Frames"
   ]
  },
  {
   "cell_type": "code",
   "execution_count": 51,
   "id": "5f2e7955",
   "metadata": {},
   "outputs": [
    {
     "name": "stdout",
     "output_type": "stream",
     "text": [
      "Initialized list:  [['Anam', 23], ['Bisma', 15], ['Kinza', 33]]\n",
      "DataFrame from given list:\n",
      "     Name  Age\n",
      "0   Anam   23\n",
      "1  Bisma   15\n",
      "2  Kinza   33\n"
     ]
    }
   ],
   "source": [
    "import pandas as pd\n",
    "\n",
    "list1 = [['Anam',23],['Bisma',15],['Kinza',33]]\n",
    "print(\"Initialized list: \",list1)\n",
    "df = pd.DataFrame(list1,columns=['Name','Age'])\n",
    "print(\"DataFrame from given list:\\n\",df)"
   ]
  },
  {
   "cell_type": "code",
   "execution_count": 53,
   "id": "44e68572",
   "metadata": {},
   "outputs": [
    {
     "name": "stdout",
     "output_type": "stream",
     "text": [
      "Initialized list:  [['Amina', 20], ['Nabila', 44], ['Maryam', 28], ['Samina', 15], ['Zainab', 23]]\n",
      "Average age of all students:  26.0\n"
     ]
    }
   ],
   "source": [
    "import pandas as pd\n",
    "\n",
    "list1 = [['Amina',20],['Nabila',44],['Maryam',28], ['Samina', 15], ['Zainab', 23]]\n",
    "print(\"Initialized list: \",list1)\n",
    "df = pd.DataFrame(list1,columns=['Name','Age'])\n",
    "print(\"Average age of all students: \",df['Age'].mean())"
   ]
  },
  {
   "cell_type": "markdown",
   "id": "4c5b4cd2",
   "metadata": {},
   "source": [
    "# 11.1 From Dict of Series of Dicts\n",
    " - We can automatically generate panda Dataframe from dictionaries or dictionary o Series.\n",
    " - If we don't provide any columns, columns will be the sorted list of dict keys.\n",
    " - Nested dictionaries firstly convert into Series.\n",
    " - The resultant indexes are the union indexes of Various Series"
   ]
  },
  {
   "cell_type": "markdown",
   "id": "aa9e594e",
   "metadata": {},
   "source": [
    "## Task\n",
    " - Write a Program to create a DataFrame from Dictionaries or dictionary of Series.\n",
    "                                             \n",
    "## Code"
   ]
  },
  {
   "cell_type": "code",
   "execution_count": 55,
   "id": "be3c7564",
   "metadata": {},
   "outputs": [
    {
     "name": "stdout",
     "output_type": "stream",
     "text": [
      "DataFrame of Dictionary:\n",
      "     lst1    lst2\n",
      "1   30.0    Anam\n",
      "2   45.0  Maryam\n",
      "3   23.0   Naila\n",
      "4   67.0     NaN\n",
      "35   NaN  Zainab\n",
      "DataFrame of Dictionary when giving columns:\n",
      "     lst1    lst2\n",
      "35   NaN  Zainab\n",
      "4   67.0     NaN\n",
      "3   23.0   Naila\n",
      "2   45.0  Maryam\n",
      "1   30.0    Anam\n"
     ]
    }
   ],
   "source": [
    "import pandas as pd\n",
    "\n",
    "# initializing dictionary\n",
    "dict = {'lst1': pd.Series([30, 45, 23, 67],\n",
    "        index = [1, 2, 3, 4]), 'lst2': pd.Series(['Anam', 'Maryam', 'Naila', 'Zainab'], index = [1, 2, 3, 35])}\n",
    "\n",
    "# converting dictionary to dataframe without giving columns, it will show 'NaN' value at index with no values\n",
    "df = pd.DataFrame(dict)\n",
    "print(\"DataFrame of Dictionary:\\n\",df)\n",
    "\n",
    "# converting dictionary to dataframe with giving columns\n",
    "df1 = pd.DataFrame(dict, index = [35, 4, 3, 2, 1], columns = ['lst1', 'lst2'])\n",
    "print(\"DataFrame of Dictionary when giving columns:\\n\",df1)"
   ]
  },
  {
   "cell_type": "markdown",
   "id": "f00aa857",
   "metadata": {},
   "source": [
    "# 11.2 From Dictionary of ndarrays / lists\n",
    " - The ndarrays use to create DataFrame must all be the same length.\n",
    " - If we pass index, then it must also be the same length as the arrays.\n",
    " - By default range(n), if no index will be passed."
   ]
  },
  {
   "cell_type": "markdown",
   "id": "190a4745",
   "metadata": {},
   "source": [
    "## Task\n",
    " - Write a # Python code demonstrate creating DataFrame from dict narray / lists By default addresses.\n",
    "                                             \n",
    "## Code"
   ]
  },
  {
   "cell_type": "code",
   "execution_count": 57,
   "id": "b1c668ff",
   "metadata": {},
   "outputs": [
    {
     "name": "stdout",
     "output_type": "stream",
     "text": [
      "No index provided:\n",
      "   Category  Marks\n",
      "0    Array     27\n",
      "1    Stack     11\n",
      "2    Queue     19\n",
      "Index provided:\n",
      "       Category  Marks\n",
      "cat01    Array     27\n",
      "cat02    Stack     11\n",
      "cat03    Queue     19\n"
     ]
    }
   ],
   "source": [
    "import pandas as pd  \n",
    "  \n",
    "# intialise data of lists.  \n",
    "data = {'Category':['Array', 'Stack', 'Queue'], \n",
    "        'Marks':[27, 11, 19]}  \n",
    "  \n",
    "# Create DataFrame not providing any index\n",
    "df = pd.DataFrame(data)  \n",
    "  \n",
    "# Print the output.  \n",
    "print(\"No index provided:\\n\",df)\n",
    "\n",
    "# Create DataFrame providing index\n",
    "df = pd.DataFrame(data, index=['cat01', 'cat02', 'cat03'])  \n",
    "  \n",
    "# Print the output.  \n",
    "print(\"Index provided:\\n\",df)"
   ]
  },
  {
   "cell_type": "markdown",
   "id": "420511f6",
   "metadata": {},
   "source": [
    "# 11.3 From a list of Dictionaries\n",
    " - We can also create DataFrame from list of dictionaries.\n",
    " - Following examples will explore the concept more practically."
   ]
  },
  {
   "cell_type": "markdown",
   "id": "d40134de",
   "metadata": {},
   "source": [
    "## Task\n",
    " - Write a # Python code demonstrate creating DataFrame from dict narray / lists By default addresses.\n",
    "                                             \n",
    "## Code"
   ]
  },
  {
   "cell_type": "code",
   "execution_count": 60,
   "id": "1e00cc4b",
   "metadata": {},
   "outputs": [
    {
     "name": "stdout",
     "output_type": "stream",
     "text": [
      "No index provided:\n",
      "     Category  Marks\n",
      "0      Books     38\n",
      "1  Registers     91\n",
      "2       Pens     10\n",
      "Index provided:\n",
      "         Category  Marks\n",
      "cat01      Books     38\n",
      "cat02  Registers     91\n",
      "cat03       Pens     10\n"
     ]
    }
   ],
   "source": [
    "import pandas as pd  \n",
    "  \n",
    "# intialise data of lists.  \n",
    "data = {'Category':['Books', 'Registers', 'Pens'], \n",
    "        'Marks':[38, 91, 10]}  \n",
    "  \n",
    "# Create DataFrame not providing any index\n",
    "df = pd.DataFrame(data)  \n",
    "  \n",
    "# Print the output.  \n",
    "print(\"No index provided:\\n\",df)\n",
    "\n",
    "# Create DataFrame providing index\n",
    "df = pd.DataFrame(data, index=['cat01', 'cat02', 'cat03'])  \n",
    "  \n",
    "# Print the output.  \n",
    "print(\"Index provided:\\n\",df)"
   ]
  },
  {
   "cell_type": "markdown",
   "id": "51729778",
   "metadata": {},
   "source": [
    "# 11.4 From a Dictionary of Tuples\n",
    " - WE can create multi-indexed DataFrame by giving Tuples of Dictionaries.\n",
    " - Following examples will explore the things more."
   ]
  },
  {
   "cell_type": "markdown",
   "id": "4dc8352a",
   "metadata": {},
   "source": [
    "## Task\n",
    " - Write a # Python code to create a multi-indexed Dataframe from Tuples of Dictionaries.\n",
    " \n",
    "## Code"
   ]
  },
  {
   "cell_type": "code",
   "execution_count": 61,
   "id": "1f2ff341",
   "metadata": {},
   "outputs": [
    {
     "data": {
      "text/html": [
       "<div>\n",
       "<style scoped>\n",
       "    .dataframe tbody tr th:only-of-type {\n",
       "        vertical-align: middle;\n",
       "    }\n",
       "\n",
       "    .dataframe tbody tr th {\n",
       "        vertical-align: top;\n",
       "    }\n",
       "\n",
       "    .dataframe thead tr th {\n",
       "        text-align: left;\n",
       "    }\n",
       "</style>\n",
       "<table border=\"1\" class=\"dataframe\">\n",
       "  <thead>\n",
       "    <tr>\n",
       "      <th></th>\n",
       "      <th></th>\n",
       "      <th colspan=\"3\" halign=\"left\">a</th>\n",
       "      <th colspan=\"2\" halign=\"left\">b</th>\n",
       "    </tr>\n",
       "    <tr>\n",
       "      <th></th>\n",
       "      <th></th>\n",
       "      <th>b</th>\n",
       "      <th>a</th>\n",
       "      <th>c</th>\n",
       "      <th>a</th>\n",
       "      <th>b</th>\n",
       "    </tr>\n",
       "  </thead>\n",
       "  <tbody>\n",
       "    <tr>\n",
       "      <th rowspan=\"3\" valign=\"top\">A</th>\n",
       "      <th>B</th>\n",
       "      <td>1.0</td>\n",
       "      <td>4.0</td>\n",
       "      <td>5.0</td>\n",
       "      <td>8.0</td>\n",
       "      <td>10.0</td>\n",
       "    </tr>\n",
       "    <tr>\n",
       "      <th>C</th>\n",
       "      <td>2.0</td>\n",
       "      <td>3.0</td>\n",
       "      <td>6.0</td>\n",
       "      <td>7.0</td>\n",
       "      <td>NaN</td>\n",
       "    </tr>\n",
       "    <tr>\n",
       "      <th>D</th>\n",
       "      <td>NaN</td>\n",
       "      <td>NaN</td>\n",
       "      <td>NaN</td>\n",
       "      <td>NaN</td>\n",
       "      <td>9.0</td>\n",
       "    </tr>\n",
       "  </tbody>\n",
       "</table>\n",
       "</div>"
      ],
      "text/plain": [
       "       a              b      \n",
       "       b    a    c    a     b\n",
       "A B  1.0  4.0  5.0  8.0  10.0\n",
       "  C  2.0  3.0  6.0  7.0   NaN\n",
       "  D  NaN  NaN  NaN  NaN   9.0"
      ]
     },
     "execution_count": 61,
     "metadata": {},
     "output_type": "execute_result"
    }
   ],
   "source": [
    "import pandas as pd  \n",
    "  \n",
    "# intialise data of lists.  \n",
    "data = {('a', 'b'): {('A', 'B'): 1, ('A', 'C'): 2},\n",
    " ('a', 'a'): {('A', 'C'): 3, ('A', 'B'): 4},\n",
    " ('a', 'c'): {('A', 'B'): 5, ('A', 'C'): 6},\n",
    " ('b', 'a'): {('A', 'C'): 7, ('A', 'B'): 8},\n",
    " ('b', 'b'): {('A', 'D'): 9, ('A', 'B'): 10}}\n",
    "  \n",
    "# print(\"Created DataFrame:\\n\",pd.DataFrame(data))\n",
    "pd.DataFrame(data)"
   ]
  },
  {
   "cell_type": "markdown",
   "id": "2088dc52",
   "metadata": {},
   "source": [
    "# 11.5 Alternate Constructors"
   ]
  },
  {
   "cell_type": "markdown",
   "id": "39ebca8c",
   "metadata": {},
   "source": [
    "## DataFrame.from_dict\n",
    " - Construct DataFrame from dict oc array-like or dicts.\n",
    " - Using this constructore we can construct a DataFrame object from dictionary by columns or by indexes."
   ]
  },
  {
   "cell_type": "markdown",
   "id": "e1715514",
   "metadata": {},
   "source": [
    "## Task\n",
    " - Write a Python programe to create DataFrame from dictionaries using built-in 'DataFrame.from_dict' constructor.\n",
    " \n",
    "## Code"
   ]
  },
  {
   "cell_type": "code",
   "execution_count": 63,
   "id": "a90cde08",
   "metadata": {},
   "outputs": [
    {
     "data": {
      "text/html": [
       "<div>\n",
       "<style scoped>\n",
       "    .dataframe tbody tr th:only-of-type {\n",
       "        vertical-align: middle;\n",
       "    }\n",
       "\n",
       "    .dataframe tbody tr th {\n",
       "        vertical-align: top;\n",
       "    }\n",
       "\n",
       "    .dataframe thead th {\n",
       "        text-align: right;\n",
       "    }\n",
       "</style>\n",
       "<table border=\"1\" class=\"dataframe\">\n",
       "  <thead>\n",
       "    <tr style=\"text-align: right;\">\n",
       "      <th></th>\n",
       "      <th>col_1</th>\n",
       "      <th>col_2</th>\n",
       "    </tr>\n",
       "  </thead>\n",
       "  <tbody>\n",
       "    <tr>\n",
       "      <th>0</th>\n",
       "      <td>33</td>\n",
       "      <td>a</td>\n",
       "    </tr>\n",
       "    <tr>\n",
       "      <th>1</th>\n",
       "      <td>12</td>\n",
       "      <td>b</td>\n",
       "    </tr>\n",
       "    <tr>\n",
       "      <th>2</th>\n",
       "      <td>11</td>\n",
       "      <td>c</td>\n",
       "    </tr>\n",
       "    <tr>\n",
       "      <th>3</th>\n",
       "      <td>0</td>\n",
       "      <td>d</td>\n",
       "    </tr>\n",
       "  </tbody>\n",
       "</table>\n",
       "</div>"
      ],
      "text/plain": [
       "   col_1 col_2\n",
       "0     33     a\n",
       "1     12     b\n",
       "2     11     c\n",
       "3      0     d"
      ]
     },
     "execution_count": 63,
     "metadata": {},
     "output_type": "execute_result"
    }
   ],
   "source": [
    "import pandas as pd  \n",
    "  \n",
    "data = {'col_1': [33, 12, 11, 0], 'col_2': ['a', 'b', 'c', 'd']}\n",
    "\n",
    "pd.DataFrame.from_dict(data)"
   ]
  },
  {
   "cell_type": "markdown",
   "id": "f795f0b3",
   "metadata": {},
   "source": [
    "## DataFrame.from_records\n",
    " - Using this constructor we create DataFrame from structured ndarrays, sequence of tuples or dicts or even from DataFrame.\n",
    " - Following examples will show, how to use it."
   ]
  },
  {
   "cell_type": "markdown",
   "id": "e7c078d1",
   "metadata": {},
   "source": [
    "## Task\n",
    " - Write a Python programe to create DataFrame structured ndarray.\n",
    " \n",
    "## Code"
   ]
  },
  {
   "cell_type": "code",
   "execution_count": 64,
   "id": "d92c0fd1",
   "metadata": {},
   "outputs": [
    {
     "data": {
      "text/html": [
       "<div>\n",
       "<style scoped>\n",
       "    .dataframe tbody tr th:only-of-type {\n",
       "        vertical-align: middle;\n",
       "    }\n",
       "\n",
       "    .dataframe tbody tr th {\n",
       "        vertical-align: top;\n",
       "    }\n",
       "\n",
       "    .dataframe thead th {\n",
       "        text-align: right;\n",
       "    }\n",
       "</style>\n",
       "<table border=\"1\" class=\"dataframe\">\n",
       "  <thead>\n",
       "    <tr style=\"text-align: right;\">\n",
       "      <th></th>\n",
       "      <th>col_1</th>\n",
       "      <th>col_2</th>\n",
       "    </tr>\n",
       "  </thead>\n",
       "  <tbody>\n",
       "    <tr>\n",
       "      <th>0</th>\n",
       "      <td>3</td>\n",
       "      <td>A</td>\n",
       "    </tr>\n",
       "    <tr>\n",
       "      <th>1</th>\n",
       "      <td>2</td>\n",
       "      <td>B</td>\n",
       "    </tr>\n",
       "    <tr>\n",
       "      <th>2</th>\n",
       "      <td>1</td>\n",
       "      <td>C</td>\n",
       "    </tr>\n",
       "    <tr>\n",
       "      <th>3</th>\n",
       "      <td>0</td>\n",
       "      <td>D</td>\n",
       "    </tr>\n",
       "  </tbody>\n",
       "</table>\n",
       "</div>"
      ],
      "text/plain": [
       "   col_1 col_2\n",
       "0      3     A\n",
       "1      2     B\n",
       "2      1     C\n",
       "3      0     D"
      ]
     },
     "execution_count": 64,
     "metadata": {},
     "output_type": "execute_result"
    }
   ],
   "source": [
    "import pandas as pd\n",
    "import numpy as np\n",
    "  \n",
    "data = np.array([(3, 'A'), (2, 'B'), (1, 'C'), (0, 'D')],\n",
    "                dtype=[('col_1', 'i4'), ('col_2', 'U1')])\n",
    "\n",
    "pd.DataFrame.from_records(data)"
   ]
  },
  {
   "cell_type": "markdown",
   "id": "60bc423c",
   "metadata": {},
   "source": [
    "# 11.6 Column selection, addition, deletion\n",
    " - We can also select, add or delete columns from DataFrames.\n",
    " - These operations works in the similar way as the analogous dict operations."
   ]
  },
  {
   "cell_type": "markdown",
   "id": "fba0a2ed",
   "metadata": {},
   "source": [
    "## Task\n",
    " - Write a Python programe to select, add or delete specific columns from a DataFrame.\n",
    " \n",
    "## Code"
   ]
  },
  {
   "cell_type": "code",
   "execution_count": 66,
   "id": "1de30d11",
   "metadata": {},
   "outputs": [
    {
     "data": {
      "text/html": [
       "<div>\n",
       "<style scoped>\n",
       "    .dataframe tbody tr th:only-of-type {\n",
       "        vertical-align: middle;\n",
       "    }\n",
       "\n",
       "    .dataframe tbody tr th {\n",
       "        vertical-align: top;\n",
       "    }\n",
       "\n",
       "    .dataframe thead th {\n",
       "        text-align: right;\n",
       "    }\n",
       "</style>\n",
       "<table border=\"1\" class=\"dataframe\">\n",
       "  <thead>\n",
       "    <tr style=\"text-align: right;\">\n",
       "      <th></th>\n",
       "      <th>Category</th>\n",
       "      <th>Marks</th>\n",
       "    </tr>\n",
       "  </thead>\n",
       "  <tbody>\n",
       "    <tr>\n",
       "      <th>0</th>\n",
       "      <td>Clocks</td>\n",
       "      <td>50</td>\n",
       "    </tr>\n",
       "    <tr>\n",
       "      <th>1</th>\n",
       "      <td>Tables</td>\n",
       "      <td>21</td>\n",
       "    </tr>\n",
       "    <tr>\n",
       "      <th>2</th>\n",
       "      <td>Chairs</td>\n",
       "      <td>29</td>\n",
       "    </tr>\n",
       "  </tbody>\n",
       "</table>\n",
       "</div>"
      ],
      "text/plain": [
       "  Category  Marks\n",
       "0   Clocks     50\n",
       "1   Tables     21\n",
       "2   Chairs     29"
      ]
     },
     "execution_count": 66,
     "metadata": {},
     "output_type": "execute_result"
    }
   ],
   "source": [
    "import pandas as pd\n",
    "\n",
    "# intialise data of lists.  \n",
    "data = {'Category':['Clocks', 'Tables', 'Chairs'], \n",
    "        'Marks':[50, 21, 29]} \n",
    "\n",
    "pd.DataFrame(data)"
   ]
  },
  {
   "cell_type": "code",
   "execution_count": 67,
   "id": "43f25924",
   "metadata": {},
   "outputs": [
    {
     "data": {
      "text/plain": [
       "0    Clocks\n",
       "1    Tables\n",
       "2    Chairs\n",
       "Name: Category, dtype: object"
      ]
     },
     "execution_count": 67,
     "metadata": {},
     "output_type": "execute_result"
    }
   ],
   "source": [
    "df = pd.DataFrame(data)\n",
    "# Display 'Category' column from DataFrame\n",
    "df['Category']"
   ]
  },
  {
   "cell_type": "code",
   "execution_count": 68,
   "id": "270c6534",
   "metadata": {},
   "outputs": [
    {
     "data": {
      "text/html": [
       "<div>\n",
       "<style scoped>\n",
       "    .dataframe tbody tr th:only-of-type {\n",
       "        vertical-align: middle;\n",
       "    }\n",
       "\n",
       "    .dataframe tbody tr th {\n",
       "        vertical-align: top;\n",
       "    }\n",
       "\n",
       "    .dataframe thead th {\n",
       "        text-align: right;\n",
       "    }\n",
       "</style>\n",
       "<table border=\"1\" class=\"dataframe\">\n",
       "  <thead>\n",
       "    <tr style=\"text-align: right;\">\n",
       "      <th></th>\n",
       "      <th>Marks</th>\n",
       "    </tr>\n",
       "  </thead>\n",
       "  <tbody>\n",
       "    <tr>\n",
       "      <th>0</th>\n",
       "      <td>50</td>\n",
       "    </tr>\n",
       "    <tr>\n",
       "      <th>1</th>\n",
       "      <td>21</td>\n",
       "    </tr>\n",
       "    <tr>\n",
       "      <th>2</th>\n",
       "      <td>29</td>\n",
       "    </tr>\n",
       "  </tbody>\n",
       "</table>\n",
       "</div>"
      ],
      "text/plain": [
       "   Marks\n",
       "0     50\n",
       "1     21\n",
       "2     29"
      ]
     },
     "execution_count": 68,
     "metadata": {},
     "output_type": "execute_result"
    }
   ],
   "source": [
    "# Delete a column\n",
    "del df['Category']\n",
    "df"
   ]
  },
  {
   "cell_type": "code",
   "execution_count": 72,
   "id": "8f8e98f7",
   "metadata": {},
   "outputs": [
    {
     "data": {
      "text/html": [
       "<div>\n",
       "<style scoped>\n",
       "    .dataframe tbody tr th:only-of-type {\n",
       "        vertical-align: middle;\n",
       "    }\n",
       "\n",
       "    .dataframe tbody tr th {\n",
       "        vertical-align: top;\n",
       "    }\n",
       "\n",
       "    .dataframe thead th {\n",
       "        text-align: right;\n",
       "    }\n",
       "</style>\n",
       "<table border=\"1\" class=\"dataframe\">\n",
       "  <thead>\n",
       "    <tr style=\"text-align: right;\">\n",
       "      <th></th>\n",
       "      <th>Marks</th>\n",
       "      <th>Category</th>\n",
       "    </tr>\n",
       "  </thead>\n",
       "  <tbody>\n",
       "    <tr>\n",
       "      <th>0</th>\n",
       "      <td>50</td>\n",
       "      <td>Books</td>\n",
       "    </tr>\n",
       "    <tr>\n",
       "      <th>1</th>\n",
       "      <td>21</td>\n",
       "      <td>Tables</td>\n",
       "    </tr>\n",
       "    <tr>\n",
       "      <th>2</th>\n",
       "      <td>29</td>\n",
       "      <td>Chairs</td>\n",
       "    </tr>\n",
       "  </tbody>\n",
       "</table>\n",
       "</div>"
      ],
      "text/plain": [
       "   Marks Category\n",
       "0     50    Books\n",
       "1     21   Tables\n",
       "2     29   Chairs"
      ]
     },
     "execution_count": 72,
     "metadata": {},
     "output_type": "execute_result"
    }
   ],
   "source": [
    "# Add a column\n",
    "df['Category'] = ['Books','Tables','Chairs']\n",
    "df"
   ]
  },
  {
   "cell_type": "markdown",
   "id": "d840c8bd",
   "metadata": {},
   "source": [
    "# 11.7 Indexing / Selection\n",
    " - For example, in row selection, we want to return the columns and values.\n",
    " - In case of Series, column names will be shown as indexes for resultant results."
   ]
  },
  {
   "cell_type": "markdown",
   "id": "49b86c04",
   "metadata": {},
   "source": [
    "## Task\n",
    " - Write a Python programe to return rows from a DataFrame.\n",
    " \n",
    "## Code"
   ]
  },
  {
   "cell_type": "code",
   "execution_count": 74,
   "id": "7e2e16d9",
   "metadata": {},
   "outputs": [
    {
     "data": {
      "text/plain": [
       "Category    Sweets\n",
       "Marks           19\n",
       "Name: 2, dtype: object"
      ]
     },
     "execution_count": 74,
     "metadata": {},
     "output_type": "execute_result"
    }
   ],
   "source": [
    "import pandas as pd\n",
    "\n",
    "# intialise data of lists.  \n",
    "data = {'Category':['Chocolates', 'Chips', 'Sweets'], \n",
    "        'Marks':[20, 21, 19]} \n",
    "\n",
    "df = pd.DataFrame(data)\n",
    "df.loc[2] # it will return all value from row # 3 "
   ]
  },
  {
   "cell_type": "markdown",
   "id": "6a323783",
   "metadata": {},
   "source": [
    "## 11.8 Data alignment and arithmetic\n",
    " - It's very interesting to apply different arithmetic operations on DataFrames.\n",
    " - Data Alignment between DataFrame objects automatically align both rows and columns.\n",
    " - Resultant of alignment will have the union of the columns and rows."
   ]
  },
  {
   "cell_type": "markdown",
   "id": "5163c93b",
   "metadata": {},
   "source": [
    "## Task\n",
    " - Write a Python programe to create two DataFrames by randomly generated numbers and add these two DataFrames, display result on screen.\n",
    " \n",
    "## Code"
   ]
  },
  {
   "cell_type": "code",
   "execution_count": 76,
   "id": "188f8998",
   "metadata": {},
   "outputs": [
    {
     "data": {
      "text/html": [
       "<div>\n",
       "<style scoped>\n",
       "    .dataframe tbody tr th:only-of-type {\n",
       "        vertical-align: middle;\n",
       "    }\n",
       "\n",
       "    .dataframe tbody tr th {\n",
       "        vertical-align: top;\n",
       "    }\n",
       "\n",
       "    .dataframe thead th {\n",
       "        text-align: right;\n",
       "    }\n",
       "</style>\n",
       "<table border=\"1\" class=\"dataframe\">\n",
       "  <thead>\n",
       "    <tr style=\"text-align: right;\">\n",
       "      <th></th>\n",
       "      <th>A</th>\n",
       "      <th>B</th>\n",
       "      <th>C</th>\n",
       "      <th>D</th>\n",
       "      <th>E</th>\n",
       "    </tr>\n",
       "  </thead>\n",
       "  <tbody>\n",
       "    <tr>\n",
       "      <th>0</th>\n",
       "      <td>-0.715654</td>\n",
       "      <td>0.256744</td>\n",
       "      <td>-0.584380</td>\n",
       "      <td>0.333574</td>\n",
       "      <td>-0.674512</td>\n",
       "    </tr>\n",
       "    <tr>\n",
       "      <th>1</th>\n",
       "      <td>0.126395</td>\n",
       "      <td>-0.620466</td>\n",
       "      <td>-0.994384</td>\n",
       "      <td>0.609134</td>\n",
       "      <td>0.097773</td>\n",
       "    </tr>\n",
       "    <tr>\n",
       "      <th>2</th>\n",
       "      <td>-0.321572</td>\n",
       "      <td>1.621622</td>\n",
       "      <td>-0.293688</td>\n",
       "      <td>-1.028676</td>\n",
       "      <td>-0.070496</td>\n",
       "    </tr>\n",
       "    <tr>\n",
       "      <th>3</th>\n",
       "      <td>-0.054245</td>\n",
       "      <td>0.342577</td>\n",
       "      <td>0.386005</td>\n",
       "      <td>1.581163</td>\n",
       "      <td>-0.111829</td>\n",
       "    </tr>\n",
       "    <tr>\n",
       "      <th>4</th>\n",
       "      <td>1.204681</td>\n",
       "      <td>0.295660</td>\n",
       "      <td>-1.514101</td>\n",
       "      <td>-1.746360</td>\n",
       "      <td>-0.495803</td>\n",
       "    </tr>\n",
       "  </tbody>\n",
       "</table>\n",
       "</div>"
      ],
      "text/plain": [
       "          A         B         C         D         E\n",
       "0 -0.715654  0.256744 -0.584380  0.333574 -0.674512\n",
       "1  0.126395 -0.620466 -0.994384  0.609134  0.097773\n",
       "2 -0.321572  1.621622 -0.293688 -1.028676 -0.070496\n",
       "3 -0.054245  0.342577  0.386005  1.581163 -0.111829\n",
       "4  1.204681  0.295660 -1.514101 -1.746360 -0.495803"
      ]
     },
     "execution_count": 76,
     "metadata": {},
     "output_type": "execute_result"
    }
   ],
   "source": [
    "import pandas as pd\n",
    "import numpy as np\n",
    "\n",
    "# intialise data of lists.  \n",
    "data_f1 = pd.DataFrame(np.random.randn(5, 5), columns=['A', 'B', 'C', 'D', 'E'])\n",
    "data_f1"
   ]
  },
  {
   "cell_type": "code",
   "execution_count": 79,
   "id": "88e70312",
   "metadata": {},
   "outputs": [
    {
     "data": {
      "text/html": [
       "<div>\n",
       "<style scoped>\n",
       "    .dataframe tbody tr th:only-of-type {\n",
       "        vertical-align: middle;\n",
       "    }\n",
       "\n",
       "    .dataframe tbody tr th {\n",
       "        vertical-align: top;\n",
       "    }\n",
       "\n",
       "    .dataframe thead th {\n",
       "        text-align: right;\n",
       "    }\n",
       "</style>\n",
       "<table border=\"1\" class=\"dataframe\">\n",
       "  <thead>\n",
       "    <tr style=\"text-align: right;\">\n",
       "      <th></th>\n",
       "      <th>A</th>\n",
       "      <th>B</th>\n",
       "      <th>C</th>\n",
       "      <th>D</th>\n",
       "    </tr>\n",
       "  </thead>\n",
       "  <tbody>\n",
       "    <tr>\n",
       "      <th>0</th>\n",
       "      <td>-0.869825</td>\n",
       "      <td>-0.458776</td>\n",
       "      <td>0.783396</td>\n",
       "      <td>-0.826832</td>\n",
       "    </tr>\n",
       "    <tr>\n",
       "      <th>1</th>\n",
       "      <td>-2.386195</td>\n",
       "      <td>-0.080072</td>\n",
       "      <td>-1.019212</td>\n",
       "      <td>-0.161146</td>\n",
       "    </tr>\n",
       "    <tr>\n",
       "      <th>2</th>\n",
       "      <td>-0.936479</td>\n",
       "      <td>-0.161092</td>\n",
       "      <td>-0.597866</td>\n",
       "      <td>0.406597</td>\n",
       "    </tr>\n",
       "    <tr>\n",
       "      <th>3</th>\n",
       "      <td>-0.744810</td>\n",
       "      <td>-0.108353</td>\n",
       "      <td>-0.539393</td>\n",
       "      <td>0.663299</td>\n",
       "    </tr>\n",
       "    <tr>\n",
       "      <th>4</th>\n",
       "      <td>-0.209473</td>\n",
       "      <td>-0.751390</td>\n",
       "      <td>-1.465845</td>\n",
       "      <td>-1.895032</td>\n",
       "    </tr>\n",
       "  </tbody>\n",
       "</table>\n",
       "</div>"
      ],
      "text/plain": [
       "          A         B         C         D\n",
       "0 -0.869825 -0.458776  0.783396 -0.826832\n",
       "1 -2.386195 -0.080072 -1.019212 -0.161146\n",
       "2 -0.936479 -0.161092 -0.597866  0.406597\n",
       "3 -0.744810 -0.108353 -0.539393  0.663299\n",
       "4 -0.209473 -0.751390 -1.465845 -1.895032"
      ]
     },
     "execution_count": 79,
     "metadata": {},
     "output_type": "execute_result"
    }
   ],
   "source": [
    "data_f2 = pd.DataFrame(np.random.randn(5, 4), columns=['A', 'B', 'C','D'])\n",
    "data_f2"
   ]
  },
  {
   "cell_type": "code",
   "execution_count": 80,
   "id": "ec3a3103",
   "metadata": {},
   "outputs": [
    {
     "data": {
      "text/html": [
       "<div>\n",
       "<style scoped>\n",
       "    .dataframe tbody tr th:only-of-type {\n",
       "        vertical-align: middle;\n",
       "    }\n",
       "\n",
       "    .dataframe tbody tr th {\n",
       "        vertical-align: top;\n",
       "    }\n",
       "\n",
       "    .dataframe thead th {\n",
       "        text-align: right;\n",
       "    }\n",
       "</style>\n",
       "<table border=\"1\" class=\"dataframe\">\n",
       "  <thead>\n",
       "    <tr style=\"text-align: right;\">\n",
       "      <th></th>\n",
       "      <th>A</th>\n",
       "      <th>B</th>\n",
       "      <th>C</th>\n",
       "      <th>D</th>\n",
       "      <th>E</th>\n",
       "    </tr>\n",
       "  </thead>\n",
       "  <tbody>\n",
       "    <tr>\n",
       "      <th>0</th>\n",
       "      <td>-1.585479</td>\n",
       "      <td>-0.202031</td>\n",
       "      <td>0.199015</td>\n",
       "      <td>-0.493258</td>\n",
       "      <td>NaN</td>\n",
       "    </tr>\n",
       "    <tr>\n",
       "      <th>1</th>\n",
       "      <td>-2.259800</td>\n",
       "      <td>-0.700538</td>\n",
       "      <td>-2.013595</td>\n",
       "      <td>0.447988</td>\n",
       "      <td>NaN</td>\n",
       "    </tr>\n",
       "    <tr>\n",
       "      <th>2</th>\n",
       "      <td>-1.258051</td>\n",
       "      <td>1.460529</td>\n",
       "      <td>-0.891554</td>\n",
       "      <td>-0.622079</td>\n",
       "      <td>NaN</td>\n",
       "    </tr>\n",
       "    <tr>\n",
       "      <th>3</th>\n",
       "      <td>-0.799055</td>\n",
       "      <td>0.234224</td>\n",
       "      <td>-0.153388</td>\n",
       "      <td>2.244462</td>\n",
       "      <td>NaN</td>\n",
       "    </tr>\n",
       "    <tr>\n",
       "      <th>4</th>\n",
       "      <td>0.995208</td>\n",
       "      <td>-0.455730</td>\n",
       "      <td>-2.979945</td>\n",
       "      <td>-3.641392</td>\n",
       "      <td>NaN</td>\n",
       "    </tr>\n",
       "  </tbody>\n",
       "</table>\n",
       "</div>"
      ],
      "text/plain": [
       "          A         B         C         D   E\n",
       "0 -1.585479 -0.202031  0.199015 -0.493258 NaN\n",
       "1 -2.259800 -0.700538 -2.013595  0.447988 NaN\n",
       "2 -1.258051  1.460529 -0.891554 -0.622079 NaN\n",
       "3 -0.799055  0.234224 -0.153388  2.244462 NaN\n",
       "4  0.995208 -0.455730 -2.979945 -3.641392 NaN"
      ]
     },
     "execution_count": 80,
     "metadata": {},
     "output_type": "execute_result"
    }
   ],
   "source": [
    "data_frames_add = data_f1 + data_f2\n",
    "data_frames_add"
   ]
  },
  {
   "cell_type": "code",
   "execution_count": 81,
   "id": "f86ea9b1",
   "metadata": {},
   "outputs": [
    {
     "data": {
      "text/html": [
       "<div>\n",
       "<style scoped>\n",
       "    .dataframe tbody tr th:only-of-type {\n",
       "        vertical-align: middle;\n",
       "    }\n",
       "\n",
       "    .dataframe tbody tr th {\n",
       "        vertical-align: top;\n",
       "    }\n",
       "\n",
       "    .dataframe thead th {\n",
       "        text-align: right;\n",
       "    }\n",
       "</style>\n",
       "<table border=\"1\" class=\"dataframe\">\n",
       "  <thead>\n",
       "    <tr style=\"text-align: right;\">\n",
       "      <th></th>\n",
       "      <th>A</th>\n",
       "      <th>B</th>\n",
       "      <th>C</th>\n",
       "      <th>D</th>\n",
       "      <th>E</th>\n",
       "    </tr>\n",
       "  </thead>\n",
       "  <tbody>\n",
       "    <tr>\n",
       "      <th>0</th>\n",
       "      <td>0.154171</td>\n",
       "      <td>0.715520</td>\n",
       "      <td>-1.367776</td>\n",
       "      <td>1.160407</td>\n",
       "      <td>NaN</td>\n",
       "    </tr>\n",
       "    <tr>\n",
       "      <th>1</th>\n",
       "      <td>2.512589</td>\n",
       "      <td>-0.540394</td>\n",
       "      <td>0.024828</td>\n",
       "      <td>0.770280</td>\n",
       "      <td>NaN</td>\n",
       "    </tr>\n",
       "    <tr>\n",
       "      <th>2</th>\n",
       "      <td>0.614907</td>\n",
       "      <td>1.782714</td>\n",
       "      <td>0.304178</td>\n",
       "      <td>-1.435273</td>\n",
       "      <td>NaN</td>\n",
       "    </tr>\n",
       "    <tr>\n",
       "      <th>3</th>\n",
       "      <td>0.690565</td>\n",
       "      <td>0.450930</td>\n",
       "      <td>0.925398</td>\n",
       "      <td>0.917865</td>\n",
       "      <td>NaN</td>\n",
       "    </tr>\n",
       "    <tr>\n",
       "      <th>4</th>\n",
       "      <td>1.414154</td>\n",
       "      <td>1.047050</td>\n",
       "      <td>-0.048256</td>\n",
       "      <td>0.148672</td>\n",
       "      <td>NaN</td>\n",
       "    </tr>\n",
       "  </tbody>\n",
       "</table>\n",
       "</div>"
      ],
      "text/plain": [
       "          A         B         C         D   E\n",
       "0  0.154171  0.715520 -1.367776  1.160407 NaN\n",
       "1  2.512589 -0.540394  0.024828  0.770280 NaN\n",
       "2  0.614907  1.782714  0.304178 -1.435273 NaN\n",
       "3  0.690565  0.450930  0.925398  0.917865 NaN\n",
       "4  1.414154  1.047050 -0.048256  0.148672 NaN"
      ]
     },
     "execution_count": 81,
     "metadata": {},
     "output_type": "execute_result"
    }
   ],
   "source": [
    "data_frames_sub = data_f1 - data_f2\n",
    "data_frames_sub"
   ]
  },
  {
   "cell_type": "code",
   "execution_count": 82,
   "id": "5fd0952b",
   "metadata": {},
   "outputs": [
    {
     "data": {
      "text/html": [
       "<div>\n",
       "<style scoped>\n",
       "    .dataframe tbody tr th:only-of-type {\n",
       "        vertical-align: middle;\n",
       "    }\n",
       "\n",
       "    .dataframe tbody tr th {\n",
       "        vertical-align: top;\n",
       "    }\n",
       "\n",
       "    .dataframe thead th {\n",
       "        text-align: right;\n",
       "    }\n",
       "</style>\n",
       "<table border=\"1\" class=\"dataframe\">\n",
       "  <thead>\n",
       "    <tr style=\"text-align: right;\">\n",
       "      <th></th>\n",
       "      <th>A</th>\n",
       "      <th>B</th>\n",
       "      <th>C</th>\n",
       "      <th>D</th>\n",
       "      <th>E</th>\n",
       "    </tr>\n",
       "  </thead>\n",
       "  <tbody>\n",
       "    <tr>\n",
       "      <th>0</th>\n",
       "      <td>0.622494</td>\n",
       "      <td>-0.117788</td>\n",
       "      <td>-0.457801</td>\n",
       "      <td>-0.275810</td>\n",
       "      <td>NaN</td>\n",
       "    </tr>\n",
       "    <tr>\n",
       "      <th>1</th>\n",
       "      <td>-0.301602</td>\n",
       "      <td>0.049682</td>\n",
       "      <td>1.013487</td>\n",
       "      <td>-0.098160</td>\n",
       "      <td>NaN</td>\n",
       "    </tr>\n",
       "    <tr>\n",
       "      <th>2</th>\n",
       "      <td>0.301145</td>\n",
       "      <td>-0.261231</td>\n",
       "      <td>0.175586</td>\n",
       "      <td>-0.418256</td>\n",
       "      <td>NaN</td>\n",
       "    </tr>\n",
       "    <tr>\n",
       "      <th>3</th>\n",
       "      <td>0.040403</td>\n",
       "      <td>-0.037119</td>\n",
       "      <td>-0.208209</td>\n",
       "      <td>1.048784</td>\n",
       "      <td>NaN</td>\n",
       "    </tr>\n",
       "    <tr>\n",
       "      <th>4</th>\n",
       "      <td>-0.252348</td>\n",
       "      <td>-0.222156</td>\n",
       "      <td>2.219437</td>\n",
       "      <td>3.309407</td>\n",
       "      <td>NaN</td>\n",
       "    </tr>\n",
       "  </tbody>\n",
       "</table>\n",
       "</div>"
      ],
      "text/plain": [
       "          A         B         C         D   E\n",
       "0  0.622494 -0.117788 -0.457801 -0.275810 NaN\n",
       "1 -0.301602  0.049682  1.013487 -0.098160 NaN\n",
       "2  0.301145 -0.261231  0.175586 -0.418256 NaN\n",
       "3  0.040403 -0.037119 -0.208209  1.048784 NaN\n",
       "4 -0.252348 -0.222156  2.219437  3.309407 NaN"
      ]
     },
     "execution_count": 82,
     "metadata": {},
     "output_type": "execute_result"
    }
   ],
   "source": [
    "data_frames_mul = data_f1 * data_f2\n",
    "data_frames_mul"
   ]
  },
  {
   "cell_type": "code",
   "execution_count": 83,
   "id": "f45aca11",
   "metadata": {},
   "outputs": [
    {
     "data": {
      "text/html": [
       "<div>\n",
       "<style scoped>\n",
       "    .dataframe tbody tr th:only-of-type {\n",
       "        vertical-align: middle;\n",
       "    }\n",
       "\n",
       "    .dataframe tbody tr th {\n",
       "        vertical-align: top;\n",
       "    }\n",
       "\n",
       "    .dataframe thead th {\n",
       "        text-align: right;\n",
       "    }\n",
       "</style>\n",
       "<table border=\"1\" class=\"dataframe\">\n",
       "  <thead>\n",
       "    <tr style=\"text-align: right;\">\n",
       "      <th></th>\n",
       "      <th>A</th>\n",
       "      <th>B</th>\n",
       "      <th>C</th>\n",
       "      <th>D</th>\n",
       "      <th>E</th>\n",
       "    </tr>\n",
       "  </thead>\n",
       "  <tbody>\n",
       "    <tr>\n",
       "      <th>0</th>\n",
       "      <td>0.822756</td>\n",
       "      <td>-0.559629</td>\n",
       "      <td>-0.745958</td>\n",
       "      <td>-0.403436</td>\n",
       "      <td>NaN</td>\n",
       "    </tr>\n",
       "    <tr>\n",
       "      <th>1</th>\n",
       "      <td>-0.052969</td>\n",
       "      <td>7.748836</td>\n",
       "      <td>0.975640</td>\n",
       "      <td>-3.780010</td>\n",
       "      <td>NaN</td>\n",
       "    </tr>\n",
       "    <tr>\n",
       "      <th>2</th>\n",
       "      <td>0.343384</td>\n",
       "      <td>-10.066409</td>\n",
       "      <td>0.491227</td>\n",
       "      <td>-2.529965</td>\n",
       "      <td>NaN</td>\n",
       "    </tr>\n",
       "    <tr>\n",
       "      <th>3</th>\n",
       "      <td>0.072831</td>\n",
       "      <td>-3.161669</td>\n",
       "      <td>-0.715628</td>\n",
       "      <td>2.383788</td>\n",
       "      <td>NaN</td>\n",
       "    </tr>\n",
       "    <tr>\n",
       "      <th>4</th>\n",
       "      <td>-5.751005</td>\n",
       "      <td>-0.393484</td>\n",
       "      <td>1.032920</td>\n",
       "      <td>0.921547</td>\n",
       "      <td>NaN</td>\n",
       "    </tr>\n",
       "  </tbody>\n",
       "</table>\n",
       "</div>"
      ],
      "text/plain": [
       "          A          B         C         D   E\n",
       "0  0.822756  -0.559629 -0.745958 -0.403436 NaN\n",
       "1 -0.052969   7.748836  0.975640 -3.780010 NaN\n",
       "2  0.343384 -10.066409  0.491227 -2.529965 NaN\n",
       "3  0.072831  -3.161669 -0.715628  2.383788 NaN\n",
       "4 -5.751005  -0.393484  1.032920  0.921547 NaN"
      ]
     },
     "execution_count": 83,
     "metadata": {},
     "output_type": "execute_result"
    }
   ],
   "source": [
    "data_frames_div = data_f1 / data_f2\n",
    "data_frames_div"
   ]
  },
  {
   "cell_type": "code",
   "execution_count": null,
   "id": "f102593b",
   "metadata": {},
   "outputs": [],
   "source": []
  }
 ],
 "metadata": {
  "kernelspec": {
   "display_name": "Python 3",
   "language": "python",
   "name": "python3"
  },
  "language_info": {
   "codemirror_mode": {
    "name": "ipython",
    "version": 3
   },
   "file_extension": ".py",
   "mimetype": "text/x-python",
   "name": "python",
   "nbconvert_exporter": "python",
   "pygments_lexer": "ipython3",
   "version": "3.8.8"
  }
 },
 "nbformat": 4,
 "nbformat_minor": 5
}
